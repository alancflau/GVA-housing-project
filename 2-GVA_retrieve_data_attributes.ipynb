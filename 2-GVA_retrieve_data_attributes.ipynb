{
 "cells": [
  {
   "cell_type": "code",
   "execution_count": 1,
   "id": "2d888fd2-70e3-4c11-b7a2-0eddf9186ee7",
   "metadata": {},
   "outputs": [],
   "source": [
    "import json\n",
    "\n",
    "def get_credentials(filepath):\n",
    "    \"\"\"\n",
    "    Retrieve login credentials\n",
    "    \"\"\"\n",
    "    with open(filepath, 'r') as f:\n",
    "        credentials = json.load(f)\n",
    "    return credentials\n",
    "\n",
    "# Path to your credentials file\n",
    "credentials_filepath = 'credentials.json'\n",
    "\n",
    "# Retreieve credentials\n",
    "credentials = get_credentials(credentials_filepath)\n",
    "\n",
    "# Access your credentials\n",
    "username = credentials['username']\n",
    "password = credentials['password']"
   ]
  },
  {
   "cell_type": "code",
   "execution_count": 30,
   "id": "67aedd4e-bc92-4df5-95e6-9219b60d7df3",
   "metadata": {
    "scrolled": true
   },
   "outputs": [],
   "source": [
    "# Retrieve table\n",
    "\n",
    "import pandas as pd\n",
    "import glob\n",
    "import os\n",
    "\n",
    "def read_csv_files(pattern):\n",
    "    # Use glob to find files matching the pattern\n",
    "    files = glob.glob('*{}*.csv'.format(pattern))\n",
    "    \n",
    "    # Create an empty list to store DataFrames\n",
    "    dfs = []\n",
    "    \n",
    "    # Iterate over each file\n",
    "    for file in files:\n",
    "        # Read the CSV file into a DataFrame\n",
    "        df = pd.read_csv(file, index_col = [0])\n",
    "        # Extract the name of the CSV file without the extension\n",
    "        file_name = os.path.splitext(os.path.basename(file))[0]\n",
    "        city_name = file_name.split('_')[0]\n",
    "        # Create a new column with the file name\n",
    "        df['City'] = city_name\n",
    "        # Append the DataFrame to the list\n",
    "        dfs.append(df)\n",
    "\n",
    "    # Concatenate all DataFrames in the list into a single DataFrame\n",
    "    combined_df = pd.concat(dfs, ignore_index=True)\n",
    "    \n",
    "    return combined_df\n",
    "\n",
    "pattern = 'sold_listings'\n",
    "combined_df = read_csv_files(pattern)"
   ]
  },
  {
   "cell_type": "code",
   "execution_count": 35,
   "id": "6a036816-c3cf-4677-a82e-eaa6907a7457",
   "metadata": {},
   "outputs": [
    {
     "data": {
      "text/plain": [
       "'https://www.zoocasa.com/burnaby-bc-real-estate/simon-fraser-hills-ph-3/8957-corona-place'"
      ]
     },
     "execution_count": 35,
     "metadata": {},
     "output_type": "execute_result"
    }
   ],
   "source": [
    "combined_df['Listing link'][120]"
   ]
  },
  {
   "cell_type": "code",
   "execution_count": 33,
   "id": "919e203d-f212-466f-9acb-8b123b83fd42",
   "metadata": {},
   "outputs": [],
   "source": [
    "# Key Facts:\n",
    "    # Type\n",
    "    # Size\n",
    "    # Maintenance Fees (if applicable)\n",
    "    # Approx Age\n",
    "    # MLS Number\n",
    "    # Levels\n",
    "    # Garage\n",
    "    # Taxes\n",
    "    # Average Price per sqft\n",
    "    # Property Address\n",
    "    # bedroom\n",
    "    # bathroom\n",
    "# Sold Price\n",
    "# List Price\n",
    "# List Date\n",
    "# End Date\n",
    "\n",
    "# Rooms (if applicable)\n",
    "\n",
    "# Description"
   ]
  },
  {
   "cell_type": "code",
   "execution_count": null,
   "id": "ed9cb1b8-655c-4782-bc4d-6acd1af90a4b",
   "metadata": {},
   "outputs": [],
   "source": []
  }
 ],
 "metadata": {
  "kernelspec": {
   "display_name": "housing_project",
   "language": "python",
   "name": "housing_project"
  },
  "language_info": {
   "codemirror_mode": {
    "name": "ipython",
    "version": 3
   },
   "file_extension": ".py",
   "mimetype": "text/x-python",
   "name": "python",
   "nbconvert_exporter": "python",
   "pygments_lexer": "ipython3",
   "version": "3.12.2"
  }
 },
 "nbformat": 4,
 "nbformat_minor": 5
}
