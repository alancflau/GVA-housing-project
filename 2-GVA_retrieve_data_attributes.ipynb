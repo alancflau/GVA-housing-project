{
 "cells": [
  {
   "cell_type": "code",
   "execution_count": 66,
   "id": "722f54a2-ca02-4ace-9491-a57fafb5e0be",
   "metadata": {},
   "outputs": [],
   "source": [
    "import src.login_config as config\n",
    "import src.helpers as helpers\n",
    "import src.data_scrape as ds\n",
    "\n",
    "# username, password = config.main()"
   ]
  },
  {
   "cell_type": "code",
   "execution_count": 67,
   "id": "ccaf4a5a-1a39-4aa6-9297-9ab155aec7d3",
   "metadata": {},
   "outputs": [],
   "source": [
    "combined_df = helpers.read_csv_files('sold_listings')"
   ]
  },
  {
   "cell_type": "code",
   "execution_count": 70,
   "id": "6a036816-c3cf-4677-a82e-eaa6907a7457",
   "metadata": {},
   "outputs": [
    {
     "data": {
      "text/plain": [
       "'https://www.zoocasa.com/burnaby-bc-real-estate/eclipse-brentwood/1704-2381-beta-avenue'"
      ]
     },
     "execution_count": 70,
     "metadata": {},
     "output_type": "execute_result"
    }
   ],
   "source": [
    "combined_df['Listing link'][125]"
   ]
  },
  {
   "cell_type": "code",
   "execution_count": 69,
   "id": "f8b21385-ab09-42cc-98cf-896d1902bea6",
   "metadata": {},
   "outputs": [
    {
     "name": "stdout",
     "output_type": "stream",
     "text": [
      "A\n"
     ]
    }
   ],
   "source": [
    "browser = ds.selenium_start()\n",
    "ds.first_time_login(browser)\n",
    "lnks = ds.retrieve_sold_listing_description(browser, combined_df['Listing link'][0])"
   ]
  },
  {
   "cell_type": "code",
   "execution_count": null,
   "id": "819ff1b1-942c-4a7c-9b17-059a399c1d6f",
   "metadata": {},
   "outputs": [],
   "source": []
  },
  {
   "cell_type": "code",
   "execution_count": 64,
   "id": "acd0cec6-aef6-4ff8-ae79-1ae1320cfe10",
   "metadata": {},
   "outputs": [
    {
     "data": {
      "text/plain": [
       "<module 'src.data_scrape' from 'C:\\\\Users\\\\Alan\\\\Projects\\\\Housing Project\\\\src\\\\data_scrape.py'>"
      ]
     },
     "execution_count": 64,
     "metadata": {},
     "output_type": "execute_result"
    }
   ],
   "source": [
    "import importlib\n",
    "importlib.reload(ds)"
   ]
  },
  {
   "cell_type": "code",
   "execution_count": null,
   "id": "ebdbcacf-35a4-457b-9006-a64f2839e93f",
   "metadata": {},
   "outputs": [],
   "source": []
  },
  {
   "cell_type": "code",
   "execution_count": 33,
   "id": "919e203d-f212-466f-9acb-8b123b83fd42",
   "metadata": {},
   "outputs": [],
   "source": [
    "# Key Facts:\n",
    "    # Type: data-testid = TypeKeyFacts\n",
    "    # Size: data-testid = SizeKeyFacts\n",
    "    # Maintenance Fees (if applicable)\n",
    "    # Approx Age: data-testid = Approx.AgeKeyFacts\n",
    "    # MLS Number: data-testid = MLS®NumberKeyFacts\n",
    "    # Levels: data-testid = LevelsKeyFacts\n",
    "    # Garage: data-testid = GarageKeyFacts\n",
    "    # Taxes: data-testid = TaxesKeyFacts\n",
    "    # Average Price per sqft: data-test = Avg.PricePerSqftKeyFacts\n",
    "    # Property Address: data-testid = keyFactsPropertyAddress\n",
    "    # bedroom: data-testid = data-testid=\"listingBedIcon\" .text\n",
    "    # bathroom data-testid = listingBathIcon .text\n",
    "# Sold Price: want listingStatus = sold\n",
    "# List Price\n",
    "# List Date\n",
    "# End Date\n",
    "\n",
    "# Rooms (if applicable)\n",
    "\n",
    "# Description"
   ]
  },
  {
   "cell_type": "code",
   "execution_count": null,
   "id": "ed9cb1b8-655c-4782-bc4d-6acd1af90a4b",
   "metadata": {},
   "outputs": [],
   "source": []
  }
 ],
 "metadata": {
  "kernelspec": {
   "display_name": "housing_project",
   "language": "python",
   "name": "housing_project"
  },
  "language_info": {
   "codemirror_mode": {
    "name": "ipython",
    "version": 3
   },
   "file_extension": ".py",
   "mimetype": "text/x-python",
   "name": "python",
   "nbconvert_exporter": "python",
   "pygments_lexer": "ipython3",
   "version": "3.12.2"
  }
 },
 "nbformat": 4,
 "nbformat_minor": 5
}
