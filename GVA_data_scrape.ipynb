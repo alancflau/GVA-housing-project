{
 "cells": [
  {
   "cell_type": "code",
   "execution_count": 2,
   "id": "d8824573-b02e-4a93-ae3c-b1ec11a2b7cf",
   "metadata": {
    "scrolled": true
   },
   "outputs": [],
   "source": [
    "import json\n",
    "\n",
    "def get_credentials(filepath):\n",
    "    with open(filepath, 'r') as f:\n",
    "        credentials = json.load(f)\n",
    "    return credentials\n",
    "\n",
    "# Path to your credentials file\n",
    "credentials_filepath = 'credentials.json'\n",
    "\n",
    "# Retreieve credentials\n",
    "credentials = get_credentials(credentials_filepath)\n",
    "\n",
    "# Access your credentials\n",
    "username = credentials['username']\n",
    "password = credentials['password']"
   ]
  },
  {
   "cell_type": "code",
   "execution_count": null,
   "id": "2ad632f5-aa3f-48dc-9713-a68da97aa5d5",
   "metadata": {},
   "outputs": [],
   "source": [
    "# Step 1: Log-in w/ credentials\n",
    "\n",
    "# Step 2: Sold Prices\n",
    "# Step 3: City (Vancouver)"
   ]
  }
 ],
 "metadata": {
  "kernelspec": {
   "display_name": "housing_project",
   "language": "python",
   "name": "housing_project"
  },
  "language_info": {
   "codemirror_mode": {
    "name": "ipython",
    "version": 3
   },
   "file_extension": ".py",
   "mimetype": "text/x-python",
   "name": "python",
   "nbconvert_exporter": "python",
   "pygments_lexer": "ipython3",
   "version": "3.12.2"
  }
 },
 "nbformat": 4,
 "nbformat_minor": 5
}
