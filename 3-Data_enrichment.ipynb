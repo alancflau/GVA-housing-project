{
 "cells": [
  {
   "cell_type": "code",
   "execution_count": 1,
   "id": "3f9aed20-779a-4a86-8d38-67ea73a634e4",
   "metadata": {},
   "outputs": [],
   "source": [
    "import pandas as pd\n",
    "import sqlite3"
   ]
  },
  {
   "cell_type": "code",
   "execution_count": 2,
   "id": "a0485315-23ec-485f-a175-3f9e69994567",
   "metadata": {},
   "outputs": [],
   "source": [
    "conn = sqlite3.connect(\"housing_information.db\")\n",
    "data_df = pd.read_sql_query('SELECT * FROM df_listings', conn)"
   ]
  },
  {
   "cell_type": "code",
   "execution_count": null,
   "id": "51763e9e-3b27-4a15-b7c8-3ee03d34938f",
   "metadata": {
    "scrolled": true
   },
   "outputs": [],
   "source": [
    "data_df.house_type.value_counts()"
   ]
  },
  {
   "cell_type": "code",
   "execution_count": 3,
   "id": "72b5eb0a-5758-4f05-a4aa-8315f53eeedf",
   "metadata": {},
   "outputs": [],
   "source": [
    "import src.data_enrichment as enrich\n",
    "data_df['house_age'] = data_df['approx_age'].apply(enrich.age_of_house)\n",
    "data_df['difference_in_days'] = data_df.apply(lambda row: enrich.calculate_days_to_sell(row['list_date'], row['end_date']), axis=1)\n",
    "data_df['price_difference_abs'] = data_df.apply(lambda row: enrich.calculate_price_diff_or_pct(row['list_price'], row['sold_price'], 'difference'), axis=1)\n",
    "data_df['price_difference_pct'] = data_df.apply(lambda row: enrich.calculate_price_diff_or_pct(row['list_price'], row['sold_price'], 'percentage'), axis=1)"
   ]
  },
  {
   "cell_type": "code",
   "execution_count": null,
   "id": "b78525a8-3999-47e9-868c-703413be8cd5",
   "metadata": {},
   "outputs": [],
   "source": []
  }
 ],
 "metadata": {
  "kernelspec": {
   "display_name": "housing_project",
   "language": "python",
   "name": "housing_project"
  },
  "language_info": {
   "codemirror_mode": {
    "name": "ipython",
    "version": 3
   },
   "file_extension": ".py",
   "mimetype": "text/x-python",
   "name": "python",
   "nbconvert_exporter": "python",
   "pygments_lexer": "ipython3",
   "version": "3.12.2"
  }
 },
 "nbformat": 4,
 "nbformat_minor": 5
}
