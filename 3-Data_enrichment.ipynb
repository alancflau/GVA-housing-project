{
 "cells": [
  {
   "cell_type": "code",
   "execution_count": 1,
   "id": "3f9aed20-779a-4a86-8d38-67ea73a634e4",
   "metadata": {},
   "outputs": [],
   "source": [
    "import pandas as pd\n",
    "import sqlite3\n",
    "import src.data_enrichment as enrich\n",
    "import src.helpers as helpers\n",
    "import src.login_config as login_config"
   ]
  },
  {
   "cell_type": "code",
   "execution_count": 2,
   "id": "a0485315-23ec-485f-a175-3f9e69994567",
   "metadata": {},
   "outputs": [],
   "source": [
    "# Read in data\n",
    "conn = sqlite3.connect(\"housing_information.db\")\n",
    "data_df = pd.read_sql_query('SELECT * FROM df_listings', conn)"
   ]
  },
  {
   "cell_type": "markdown",
   "id": "85652e5c-7c40-4887-b0b5-0953520e5fff",
   "metadata": {},
   "source": [
    "## Data enrichment"
   ]
  },
  {
   "cell_type": "code",
   "execution_count": 3,
   "id": "72b5eb0a-5758-4f05-a4aa-8315f53eeedf",
   "metadata": {},
   "outputs": [],
   "source": [
    "data_df['house_age'] = data_df['approx_age'].apply(enrich.age_of_house)\n",
    "data_df['difference_in_days'] = data_df.apply(lambda row: enrich.calculate_days_to_sell(row['list_date'], row['end_date']), axis=1)\n",
    "data_df['price_difference_abs'] = data_df.apply(lambda row: enrich.calculate_price_diff_or_pct(row['list_price'], row['sold_price'], 'difference'), axis=1)\n",
    "data_df['price_difference_pct'] = data_df.apply(lambda row: enrich.calculate_price_diff_or_pct(row['list_price'], row['sold_price'], 'percentage'), axis=1)"
   ]
  },
  {
   "cell_type": "markdown",
   "id": "f81d4ded-a36c-475f-8a7b-fc9dda77fb99",
   "metadata": {},
   "source": [
    "## Data Exploration"
   ]
  },
  {
   "cell_type": "markdown",
   "id": "d200e586-fc6f-4da1-8dd2-ebca9f4225ac",
   "metadata": {},
   "source": [
    "### Address \n",
    "\n",
    "Currently the address name is retrieved in the following format:\n",
    "<br> - \"Property Address: {name of address}, {city}, {province}\"\n",
    "<br> - Example: 'Property Address: Juneau Street, Burnaby, British Columbia'\n",
    "<br>\n",
    "<br> We only need the {name of address}. We will perform regex in order to retrieve it."
   ]
  },
  {
   "cell_type": "code",
   "execution_count": 4,
   "id": "1a91285c-4b3c-4d97-a1cb-7cce24a69dd0",
   "metadata": {},
   "outputs": [],
   "source": [
    "# Clean up \"property_addr\" field\n",
    "data_df['Address_Clean'] = data_df['property_addr'].apply(enrich.regex_cleanup)"
   ]
  },
  {
   "cell_type": "markdown",
   "id": "4187b658-7dea-468e-b59c-d501438fb806",
   "metadata": {},
   "source": [
    "The following addresses need to be updated. For some odd reason, the data scrape algorithm did not catch the full address of these names. We will need to manually check and verify the correct name of the address."
   ]
  },
  {
   "cell_type": "code",
   "execution_count": 5,
   "id": "2792535b-2c06-4a55-885a-f353352432a6",
   "metadata": {
    "scrolled": true
   },
   "outputs": [],
   "source": [
    "# few rows that needs to be replaced\n",
    "# Juneau Street -> 1301 - 4488 Juneau Street\n",
    "# Soball Street -> 38 - 1295 Soball Street\n",
    "# Seaham Crescent -> 11300 Seaham Crescent\n",
    "# Yale Street -> 2558 Yale Street [ But remove this since lot was bought]\n",
    "\n",
    "data_df.loc[data_df['Address_Clean'] == 'Juneau Street','Address_Clean'] ='1301 - 4488 Juneau Street'\n",
    "data_df.loc[data_df['Address_Clean'] == 'Soball Street','Address_Clean'] ='38 - 1295 Soball Street'\n",
    "data_df.loc[data_df['Address_Clean'] == 'Seaham Crescent','Address_Clean'] ='11300 Seaham Crescent'\n",
    "data_df = data_df[data_df.Address_Clean != 'Yale Street']"
   ]
  },
  {
   "cell_type": "markdown",
   "id": "0165e49c-1560-4adc-b6c0-4d2c71cc6a5b",
   "metadata": {},
   "source": [
    "### Home type"
   ]
  },
  {
   "cell_type": "code",
   "execution_count": 6,
   "id": "2b7dc73a-bf31-4750-b260-1dd77f63eeb7",
   "metadata": {},
   "outputs": [
    {
     "data": {
      "text/plain": [
       "house_type\n",
       "Apartment/Condominium      7383\n",
       "Single Family Residence    4341\n",
       "Townhouse                  2758\n",
       "Multi Family                345\n",
       "Manufactured Home            43\n",
       "Manufactured On Land         20\n",
       "Duplex                       17\n",
       "Quadruplex                    4\n",
       "Triplex                       3\n",
       "Condo Apt                     1\n",
       "House                         1\n",
       "Name: count, dtype: int64"
      ]
     },
     "execution_count": 6,
     "metadata": {},
     "output_type": "execute_result"
    }
   ],
   "source": [
    "data_df.house_type.value_counts()"
   ]
  },
  {
   "cell_type": "markdown",
   "id": "c6e8501d-fae4-4d1d-b66a-320f54d77b42",
   "metadata": {},
   "source": [
    "Notice above that house type are categorized into multiple categories. However, the ones with low value counts actually below in one of the following categories:\n",
    "<br> - Apartment/Condominium\n",
    "<br> - Single Family Residence\n",
    "<br> - Townhouse"
   ]
  },
  {
   "cell_type": "code",
   "execution_count": 7,
   "id": "00c028f9-d546-4a8a-b2e1-0e55fd8f7564",
   "metadata": {
    "scrolled": true
   },
   "outputs": [],
   "source": [
    "data_df['Home_type'] = data_df['house_type'] \n",
    "\n",
    "data_df.loc[data_df['house_type'] == 'Quadruplex','Home_type'] ='House'\n",
    "data_df.loc[data_df['house_type'] == 'Manufactured On Land','Home_type'] ='House'\n",
    "data_df.loc[data_df['house_type'] == 'Condo Apt','Home_type'] ='Apartment/Condominium'\n",
    "data_df.loc[data_df['house_type'] == 'Triplex','Home_type'] ='House'\n",
    "data_df.loc[data_df['house_type'] == 'Duplex','Home_type'] ='House'\n",
    "data_df.loc[data_df['house_type'] == 'Manufactured Home','Home_type'] ='House'\n",
    "data_df.loc[data_df['house_type'] == 'Multi Family','Home_type'] ='House'\n",
    "data_df.loc[data_df['house_type'] == 'Single Family Residence','Home_type'] ='House'"
   ]
  },
  {
   "cell_type": "markdown",
   "id": "56df2db5-4e2e-41a1-bc41-36fac8df2760",
   "metadata": {},
   "source": [
    "Let's verify that the changes have indeed been made"
   ]
  },
  {
   "cell_type": "code",
   "execution_count": 8,
   "id": "43227a3d-1f03-46b0-9554-b30ab13f3441",
   "metadata": {},
   "outputs": [
    {
     "data": {
      "text/plain": [
       "Home_type\n",
       "Apartment/Condominium    7384\n",
       "House                    4774\n",
       "Townhouse                2758\n",
       "Name: count, dtype: int64"
      ]
     },
     "execution_count": 8,
     "metadata": {},
     "output_type": "execute_result"
    }
   ],
   "source": [
    "data_df.Home_type.value_counts()"
   ]
  },
  {
   "cell_type": "markdown",
   "id": "c06eab41-1e69-405b-82a4-1f3a5df00186",
   "metadata": {},
   "source": [
    "### Maintanience fee\n",
    "Remove it as they are all blanks. We will revisit this later\n",
    "<br> For Apartment/Condominum, we could fetch this data off of condos.ca. There may be a better way to retrieve maintenacne fee. In the meantime, let's not include this column in the master copy."
   ]
  },
  {
   "cell_type": "code",
   "execution_count": 9,
   "id": "4437ae32-c4f5-472c-b767-c641bd9e051e",
   "metadata": {},
   "outputs": [
    {
     "data": {
      "text/plain": [
       "maint_fee\n",
       "$843    1\n",
       "Name: count, dtype: int64"
      ]
     },
     "execution_count": 9,
     "metadata": {},
     "output_type": "execute_result"
    }
   ],
   "source": [
    "data_df.maint_fee.value_counts()"
   ]
  },
  {
   "cell_type": "markdown",
   "id": "eabc454a-34df-407c-b31e-77140fa92a53",
   "metadata": {},
   "source": [
    "### Levels"
   ]
  },
  {
   "cell_type": "code",
   "execution_count": 10,
   "id": "d640827a-3137-4f33-a9d9-c1b9972db0b9",
   "metadata": {},
   "outputs": [
    {
     "data": {
      "text/plain": [
       "levels\n",
       "Residential           14891\n",
       "Residential Income       24\n",
       "Land                      3\n",
       "Residential Lease         1\n",
       "Apartment                 1\n",
       "Detached                  1\n",
       "Name: count, dtype: int64"
      ]
     },
     "execution_count": 10,
     "metadata": {},
     "output_type": "execute_result"
    }
   ],
   "source": [
    "data_df.levels.value_counts()"
   ]
  },
  {
   "cell_type": "markdown",
   "id": "d8163cfb-ce40-41f4-ba36-bdddf7a841dc",
   "metadata": {},
   "source": [
    "Based on the distribution of the field \"levels\". It seems that this variable is not that useful as majority of the listings are classified as \"Residential\". Therefore we will not include this variable in the final dataframe to work with."
   ]
  },
  {
   "cell_type": "markdown",
   "id": "88101fac-1e40-4786-ad32-edaa5eb7b050",
   "metadata": {},
   "source": [
    "### Garage "
   ]
  },
  {
   "cell_type": "code",
   "execution_count": 11,
   "id": "0c270179-8d77-4404-ad0d-c5694215c78d",
   "metadata": {},
   "outputs": [
    {
     "data": {
      "text/plain": [
       "garage\n",
       "Yes          12830\n",
       "No            2089\n",
       "Undergrnd        1\n",
       "Name: count, dtype: int64"
      ]
     },
     "execution_count": 11,
     "metadata": {},
     "output_type": "execute_result"
    }
   ],
   "source": [
    "data_df.garage.value_counts()"
   ]
  },
  {
   "cell_type": "markdown",
   "id": "e6b4f5c5-73e6-480e-a8e3-c628780b268f",
   "metadata": {},
   "source": [
    "Notice there is one row that lists as \"Undergrnd\". Will update from \"Undergrnd\" to \"Yes\"."
   ]
  },
  {
   "cell_type": "code",
   "execution_count": 12,
   "id": "a07816af-76fa-4c6a-babb-97430899e431",
   "metadata": {},
   "outputs": [],
   "source": [
    "data_df.loc[data_df['garage'] == 'Undergrnd','garage'] ='Yes'"
   ]
  },
  {
   "cell_type": "markdown",
   "id": "9d061a61-542e-4165-a46e-bfbb22cf48a4",
   "metadata": {},
   "source": [
    "Verification"
   ]
  },
  {
   "cell_type": "code",
   "execution_count": 13,
   "id": "8370a414-955f-4a42-bb67-af3c381f8f02",
   "metadata": {},
   "outputs": [
    {
     "data": {
      "text/plain": [
       "garage\n",
       "Yes    12831\n",
       "No      2089\n",
       "Name: count, dtype: int64"
      ]
     },
     "execution_count": 13,
     "metadata": {},
     "output_type": "execute_result"
    }
   ],
   "source": [
    "data_df.garage.value_counts()"
   ]
  },
  {
   "cell_type": "markdown",
   "id": "2c6c0d4c-14c5-4fd1-aca6-93e84f328973",
   "metadata": {},
   "source": [
    "### House age\n",
    "There are 6 rows (listings) where house age is not calculated. This it because no built age was provided."
   ]
  },
  {
   "cell_type": "code",
   "execution_count": 14,
   "id": "8433bbbf-9444-4ff0-a9e4-cf6cf6b5c1cd",
   "metadata": {},
   "outputs": [
    {
     "name": "stdout",
     "output_type": "stream",
     "text": [
      "The total # of rows before dropping nas is: 14921\n",
      "The total # of rows after dropping nas is: 14915\n"
     ]
    }
   ],
   "source": [
    "print('The total # of rows before dropping nas is:', len(data_df)) # Before dropping nas\n",
    "data_df = data_df.dropna(axis = 0, subset = ['house_age']).reset_index(drop = True)\n",
    "print('The total # of rows after dropping nas is:', len(data_df)) # After dropping nas --  Before dropping nas - After dropping nas = 6 rows"
   ]
  },
  {
   "cell_type": "markdown",
   "id": "2c5e55f2-9f41-485a-a4f1-328c8f005c25",
   "metadata": {},
   "source": [
    "Create master dataframe"
   ]
  },
  {
   "cell_type": "code",
   "execution_count": 15,
   "id": "573fd1e5-003e-4c2f-9c43-9c8d354fba6d",
   "metadata": {},
   "outputs": [],
   "source": [
    "columns_to_keep = ['mls_number', 'Address_Clean', 'City', 'Home_type', 'approx_age', 'house_age', \n",
    "                   'garage','garage_size','taxes', 'avg_price_sqft', 'bedroom','bathroom','list_date',\n",
    "                   'list_price','end_date','sold_price', 'difference_in_days','price_difference_abs', \n",
    "                   'price_difference_pct']\n",
    "\n",
    "df_master = data_df[columns_to_keep].copy()\n",
    "\n",
    "df_master.rename(columns = {'Address_Clean': 'address',\n",
    "                            'approx_age': 'yr_built',\n",
    "                            'house_age': 'home_age'}, inplace = True)\n",
    "df_master.columns = map(str.lower, df_master.columns)"
   ]
  },
  {
   "cell_type": "markdown",
   "id": "bb738945-c05f-427a-a6fc-bd360149d416",
   "metadata": {},
   "source": [
    "## Features"
   ]
  },
  {
   "cell_type": "code",
   "execution_count": 68,
   "id": "d82e85ef-b289-41f0-b740-2d4f98a70c3c",
   "metadata": {},
   "outputs": [],
   "source": [
    "import googlemaps\n",
    "gmaps = googlemaps.Client(key = login_config.GEOCODE_KEY)\n",
    "\n",
    "df_master['geocode_json'] = df_master.apply(lambda row: enrich.geocode_json(row['address'], row['city'], gmaps), axis=1)\n",
    "df_master['geocode_json'] = df_master['geocode_json'].astype(str)"
   ]
  },
  {
   "cell_type": "code",
   "execution_count": 69,
   "id": "b6a43118-01c0-4795-ac09-ac77716212d3",
   "metadata": {
    "scrolled": true
   },
   "outputs": [],
   "source": [
    "# #Store this in a database, # saving progress\n",
    "\n",
    "# # conn = sqlite3.connect(\"housing_information.db\")\n",
    "\n",
    "# ##push the dataframe to sql \n",
    "# df_master.to_sql(\"df_master\", conn, if_exists=\"replace\", index = False)\n",
    "\n",
    "# ##create the table\n",
    "\n",
    "# conn.execute(\n",
    "#     \"\"\"\n",
    "#     create table my_table_master as \n",
    "#     select * from df_master\n",
    "#     \"\"\")"
   ]
  },
  {
   "cell_type": "code",
   "execution_count": 78,
   "id": "e39430ee-88c2-4fb6-ab22-cec6f72c8bee",
   "metadata": {},
   "outputs": [],
   "source": [
    "# Read data back in"
   ]
  },
  {
   "cell_type": "code",
   "execution_count": 119,
   "id": "974a0729-aacc-4ada-a89c-d4b574f0fc6a",
   "metadata": {
    "scrolled": true
   },
   "outputs": [],
   "source": [
    "import ast\n",
    "# df_master['geocode_json'] = df_master['geocode_json'].apply(ast.literal_eval)\n",
    "df_master['postal_code'] = df_master['geocode_json'].apply(enrich.extract_geocode_postal)"
   ]
  },
  {
   "cell_type": "code",
   "execution_count": 120,
   "id": "02ccdd26-4d96-4aa1-a168-44c7642d902f",
   "metadata": {},
   "outputs": [
    {
     "data": {
      "text/plain": [
       "0        V5C 0M4\n",
       "1        V5E 3G6\n",
       "2        V3J 7E3\n",
       "3        V5B 3V5\n",
       "4        V5C 0J2\n",
       "          ...   \n",
       "14910    V6B 0H2\n",
       "14911      98663\n",
       "14912       None\n",
       "14913        V5T\n",
       "14914        V5R\n",
       "Name: postal_code, Length: 14915, dtype: object"
      ]
     },
     "execution_count": 120,
     "metadata": {},
     "output_type": "execute_result"
    }
   ],
   "source": [
    "df_master['postal_code']"
   ]
  },
  {
   "cell_type": "code",
   "execution_count": 131,
   "id": "f12516c6-1929-48f0-864a-b9965dbb931e",
   "metadata": {},
   "outputs": [
    {
     "data": {
      "text/plain": [
       "'8469 French'"
      ]
     },
     "execution_count": 131,
     "metadata": {},
     "output_type": "execute_result"
    }
   ],
   "source": [
    "# df_master['geocode_json'][14911] # Lookedinto WA instead of Canada\n",
    "df_master['address'][14912]"
   ]
  },
  {
   "cell_type": "code",
   "execution_count": 110,
   "id": "2ad3ca76-7302-48bd-8ecf-2b1ba6534338",
   "metadata": {},
   "outputs": [
    {
     "name": "stdout",
     "output_type": "stream",
     "text": [
      "Postal Code: V5C 0M4\n"
     ]
    }
   ],
   "source": [
    "postal_code = None\n",
    "for component in df_master['geocode_json'][0][0]['address_components']:\n",
    "    if 'postal_code' in component['types']:\n",
    "        postal_code = component['long_name']\n",
    "        break\n",
    "print(\"Postal Code:\", postal_code)"
   ]
  },
  {
   "cell_type": "code",
   "execution_count": 99,
   "id": "832cd50c-6b52-4ccc-b044-df0c46edab5c",
   "metadata": {},
   "outputs": [
    {
     "data": {
      "text/plain": [
       "[{'address_components': [{'long_name': '1301',\n",
       "    'short_name': '1301',\n",
       "    'types': ['subpremise']},\n",
       "   {'long_name': '4488', 'short_name': '4488', 'types': ['street_number']},\n",
       "   {'long_name': 'Juneau Street',\n",
       "    'short_name': 'Juneau St',\n",
       "    'types': ['route']},\n",
       "   {'long_name': 'Coquitlam',\n",
       "    'short_name': 'Coquitlam',\n",
       "    'types': ['locality', 'political']},\n",
       "   {'long_name': 'Metro Vancouver',\n",
       "    'short_name': 'Metro Vancouver',\n",
       "    'types': ['administrative_area_level_2', 'political']},\n",
       "   {'long_name': 'British Columbia',\n",
       "    'short_name': 'BC',\n",
       "    'types': ['administrative_area_level_1', 'political']},\n",
       "   {'long_name': 'Canada',\n",
       "    'short_name': 'CA',\n",
       "    'types': ['country', 'political']},\n",
       "   {'long_name': 'V5C 0M4',\n",
       "    'short_name': 'V5C 0M4',\n",
       "    'types': ['postal_code']}],\n",
       "  'formatted_address': '4488 Juneau St #1301, Coquitlam, BC V5C 0M4, Canada',\n",
       "  'geometry': {'location': {'lat': 49.26337940000001, 'lng': -123.0037234},\n",
       "   'location_type': 'ROOFTOP',\n",
       "   'viewport': {'northeast': {'lat': 49.2648028302915,\n",
       "     'lng': -123.0023729197085},\n",
       "    'southwest': {'lat': 49.2621048697085, 'lng': -123.0050708802915}}},\n",
       "  'place_id': 'EjM0NDg4IEp1bmVhdSBTdCAjMTMwMSwgQ29xdWl0bGFtLCBCQyBWNUMgME00LCBDYW5hZGEiIBoeChYKFAoSCSODi5qbd4ZUET0qKcTIh7BHEgQxMzAx',\n",
       "  'types': ['subpremise']}]"
      ]
     },
     "execution_count": 99,
     "metadata": {},
     "output_type": "execute_result"
    }
   ],
   "source": [
    "df_master['geocode_json'][0]"
   ]
  },
  {
   "cell_type": "code",
   "execution_count": 88,
   "id": "9a3cdbea-27a6-4383-8ff2-4af153e691c1",
   "metadata": {
    "scrolled": true
   },
   "outputs": [
    {
     "data": {
      "text/plain": [
       "<sqlite3.Cursor at 0x2830ad79640>"
      ]
     },
     "execution_count": 88,
     "metadata": {},
     "output_type": "execute_result"
    }
   ],
   "source": []
  },
  {
   "cell_type": "code",
   "execution_count": null,
   "id": "66579e7e-02dc-4dc2-ac97-9d69786d0032",
   "metadata": {},
   "outputs": [],
   "source": [
    "# geocode_result = gmaps.geocode(df_master.address[0])"
   ]
  },
  {
   "cell_type": "code",
   "execution_count": 118,
   "id": "8191af6b-b138-41f3-9541-a193c629beee",
   "metadata": {},
   "outputs": [
    {
     "data": {
      "text/plain": [
       "<module 'src.data_enrichment' from 'C:\\\\Users\\\\Alan\\\\Projects\\\\Housing Project\\\\src\\\\data_enrichment.py'>"
      ]
     },
     "execution_count": 118,
     "metadata": {},
     "output_type": "execute_result"
    }
   ],
   "source": [
    "import importlib\n",
    "importlib.reload(enrich)"
   ]
  },
  {
   "cell_type": "code",
   "execution_count": null,
   "id": "0ec9c2cf-8e63-4618-949c-5973cb5325ce",
   "metadata": {},
   "outputs": [],
   "source": []
  }
 ],
 "metadata": {
  "kernelspec": {
   "display_name": "housing_project",
   "language": "python",
   "name": "housing_project"
  },
  "language_info": {
   "codemirror_mode": {
    "name": "ipython",
    "version": 3
   },
   "file_extension": ".py",
   "mimetype": "text/x-python",
   "name": "python",
   "nbconvert_exporter": "python",
   "pygments_lexer": "ipython3",
   "version": "3.12.2"
  }
 },
 "nbformat": 4,
 "nbformat_minor": 5
}
