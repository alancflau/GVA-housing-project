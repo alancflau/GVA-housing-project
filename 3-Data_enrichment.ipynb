{
 "cells": [
  {
   "cell_type": "code",
   "execution_count": 1,
   "id": "3f9aed20-779a-4a86-8d38-67ea73a634e4",
   "metadata": {},
   "outputs": [],
   "source": [
    "import pandas as pd\n",
    "import sqlite3\n",
    "import src.data_enrichment as enrich\n",
    "import src.helpers as helpers"
   ]
  },
  {
   "cell_type": "code",
   "execution_count": 2,
   "id": "a0485315-23ec-485f-a175-3f9e69994567",
   "metadata": {},
   "outputs": [],
   "source": [
    "# Read in data\n",
    "conn = sqlite3.connect(\"housing_information.db\")\n",
    "data_df = pd.read_sql_query('SELECT * FROM df_listings', conn)"
   ]
  },
  {
   "cell_type": "code",
   "execution_count": 3,
   "id": "72b5eb0a-5758-4f05-a4aa-8315f53eeedf",
   "metadata": {},
   "outputs": [],
   "source": [
    "data_df['house_age'] = data_df['approx_age'].apply(enrich.age_of_house)\n",
    "data_df['difference_in_days'] = data_df.apply(lambda row: enrich.calculate_days_to_sell(row['list_date'], row['end_date']), axis=1)\n",
    "data_df['price_difference_abs'] = data_df.apply(lambda row: enrich.calculate_price_diff_or_pct(row['list_price'], row['sold_price'], 'difference'), axis=1)\n",
    "data_df['price_difference_pct'] = data_df.apply(lambda row: enrich.calculate_price_diff_or_pct(row['list_price'], row['sold_price'], 'percentage'), axis=1)"
   ]
  },
  {
   "cell_type": "markdown",
   "id": "f81d4ded-a36c-475f-8a7b-fc9dda77fb99",
   "metadata": {},
   "source": [
    "## Data Exploration"
   ]
  },
  {
   "cell_type": "code",
   "execution_count": 4,
   "id": "1a91285c-4b3c-4d97-a1cb-7cce24a69dd0",
   "metadata": {},
   "outputs": [],
   "source": [
    "# Clean up \"property_addr\" field\n",
    "data_df['Address_Clean'] = data_df['property_addr'].apply(enrich.regex_cleanup)"
   ]
  },
  {
   "cell_type": "code",
   "execution_count": 5,
   "id": "2792535b-2c06-4a55-885a-f353352432a6",
   "metadata": {
    "scrolled": true
   },
   "outputs": [],
   "source": [
    "# few rows that needs to be replaced\n",
    "# Juneau Street -> 1301 - 4488 Juneau Street\n",
    "# Soball Street -> 38 - 1295 Soball Street\n",
    "# Seaham Crescent -> 11300 Seaham Crescent\n",
    "# Yale Street -> 2558 Yale Street [ But remove this since lot was bought]\n",
    "\n",
    "data_df.loc[data_df['Address_Clean'] == 'Juneau Street','Address_Clean'] ='1301 - 4488 Juneau Street'\n",
    "data_df.loc[data_df['Address_Clean'] == 'Soball Street','Address_Clean'] ='38 - 1295 Soball Street'\n",
    "data_df.loc[data_df['Address_Clean'] == 'Seaham Crescent','Address_Clean'] ='11300 Seaham Crescent'\n",
    "data_df = data_df[data_df.Address_Clean != 'Yale Street']"
   ]
  },
  {
   "cell_type": "code",
   "execution_count": 8,
   "id": "2b7dc73a-bf31-4750-b260-1dd77f63eeb7",
   "metadata": {},
   "outputs": [
    {
     "data": {
      "text/plain": [
       "house_type\n",
       "Apartment/Condominium      7379\n",
       "Single Family Residence    4326\n",
       "Townhouse                  2751\n",
       "Multi Family                344\n",
       "Manufactured Home            43\n",
       "Manufactured On Land         20\n",
       "Duplex                       17\n",
       "Detached                     10\n",
       "Condo Apt                     6\n",
       "Quadruplex                    4\n",
       "Triplex                       3\n",
       "Comm Element Condo            1\n",
       "Semi-Detached                 1\n",
       "Rural Resid                   1\n",
       "Det Condo                     1\n",
       "Condo Townhouse               1\n",
       "Att/Row/Twnhouse              1\n",
       "House                         1\n",
       "Name: count, dtype: int64"
      ]
     },
     "execution_count": 8,
     "metadata": {},
     "output_type": "execute_result"
    }
   ],
   "source": [
    "data_df.house_type.value_counts()"
   ]
  },
  {
   "cell_type": "code",
   "execution_count": 29,
   "id": "00c028f9-d546-4a8a-b2e1-0e55fd8f7564",
   "metadata": {
    "scrolled": true
   },
   "outputs": [
    {
     "data": {
      "text/html": [
       "<div>\n",
       "<style scoped>\n",
       "    .dataframe tbody tr th:only-of-type {\n",
       "        vertical-align: middle;\n",
       "    }\n",
       "\n",
       "    .dataframe tbody tr th {\n",
       "        vertical-align: top;\n",
       "    }\n",
       "\n",
       "    .dataframe thead th {\n",
       "        text-align: right;\n",
       "    }\n",
       "</style>\n",
       "<table border=\"1\" class=\"dataframe\">\n",
       "  <thead>\n",
       "    <tr style=\"text-align: right;\">\n",
       "      <th></th>\n",
       "      <th>house_type</th>\n",
       "      <th>size</th>\n",
       "      <th>maint_fee</th>\n",
       "      <th>approx_age</th>\n",
       "      <th>mls_number</th>\n",
       "      <th>levels</th>\n",
       "      <th>garage</th>\n",
       "      <th>garage_size</th>\n",
       "      <th>taxes</th>\n",
       "      <th>avg_price_sqft</th>\n",
       "      <th>...</th>\n",
       "      <th>list_date</th>\n",
       "      <th>list_price</th>\n",
       "      <th>end_date</th>\n",
       "      <th>sold_price</th>\n",
       "      <th>City</th>\n",
       "      <th>house_age</th>\n",
       "      <th>difference_in_days</th>\n",
       "      <th>price_difference_abs</th>\n",
       "      <th>price_difference_pct</th>\n",
       "      <th>Address_Clean</th>\n",
       "    </tr>\n",
       "  </thead>\n",
       "  <tbody>\n",
       "    <tr>\n",
       "      <th>5566</th>\n",
       "      <td>Att/Row/Twnhouse</td>\n",
       "      <td>1500-2000 sqft</td>\n",
       "      <td>None</td>\n",
       "      <td>None</td>\n",
       "      <td>X8144620</td>\n",
       "      <td>2-Storey</td>\n",
       "      <td>Built-In</td>\n",
       "      <td>2.0</td>\n",
       "      <td>$4,840</td>\n",
       "      <td>$457</td>\n",
       "      <td>...</td>\n",
       "      <td>15/03/2024</td>\n",
       "      <td>$799,900</td>\n",
       "      <td>24/03/2024</td>\n",
       "      <td>$880,000</td>\n",
       "      <td>richmond</td>\n",
       "      <td>NaN</td>\n",
       "      <td>9.0</td>\n",
       "      <td>80100.0</td>\n",
       "      <td>10.013752</td>\n",
       "      <td>120 Hollybrook Tr</td>\n",
       "    </tr>\n",
       "  </tbody>\n",
       "</table>\n",
       "<p>1 rows × 23 columns</p>\n",
       "</div>"
      ],
      "text/plain": [
       "            house_type            size maint_fee approx_age mls_number  \\\n",
       "5566  Att/Row/Twnhouse  1500-2000 sqft      None       None   X8144620   \n",
       "\n",
       "        levels    garage  garage_size   taxes avg_price_sqft  ...   list_date  \\\n",
       "5566  2-Storey  Built-In          2.0  $4,840           $457  ...  15/03/2024   \n",
       "\n",
       "      list_price    end_date sold_price      City house_age  \\\n",
       "5566    $799,900  24/03/2024   $880,000  richmond       NaN   \n",
       "\n",
       "     difference_in_days price_difference_abs  price_difference_pct  \\\n",
       "5566                9.0              80100.0             10.013752   \n",
       "\n",
       "          Address_Clean  \n",
       "5566  120 Hollybrook Tr  \n",
       "\n",
       "[1 rows x 23 columns]"
      ]
     },
     "execution_count": 29,
     "metadata": {},
     "output_type": "execute_result"
    }
   ],
   "source": [
    "# data_df[data_df.house_type == 'House'] # Update from House to Single Family Residence\n",
    "# data_df[data_df.house_type == 'Quadruplex'] # Update from Quadruplex to Single Family Residence\n",
    "# data_df[data_df.house_type == 'Manufactured On Land'] # Update from House to Single Family Residence\n",
    "\n",
    "# Det Condo -> House\n",
    "\n",
    "# data_df[data_df.house_type == 'Det Condo']\n",
    "data_df[data_df.house_type == 'Att/Row/Twnhouse'] #--> # In Kitcher?\n",
    "\n",
    "# Somethign wrong with Richmond listings\n",
    "\n",
    "# data_df[data_df.house_type == 'Comm Element Condo'] # Update from House to Single Family Residence"
   ]
  },
  {
   "cell_type": "code",
   "execution_count": 16,
   "id": "76cac521-ea67-4d2c-94e8-98930a94a429",
   "metadata": {},
   "outputs": [
    {
     "data": {
      "text/plain": [
       "City\n",
       "vancouver    5232\n",
       "surrey       3385\n",
       "richmond     2198\n",
       "burnaby      1728\n",
       "coquitlam    1465\n",
       "delta         907\n",
       "Name: count, dtype: int64"
      ]
     },
     "execution_count": 16,
     "metadata": {},
     "output_type": "execute_result"
    }
   ],
   "source": [
    "data_df.City.value_counts()"
   ]
  },
  {
   "cell_type": "code",
   "execution_count": null,
   "id": "e09d422c-3841-436a-a38d-d62927054018",
   "metadata": {},
   "outputs": [],
   "source": [
    "# import importlib\n",
    "# importlib.reload(enrich)"
   ]
  },
  {
   "cell_type": "code",
   "execution_count": null,
   "id": "70fa9774-f2f7-432b-abc2-5b39e805c123",
   "metadata": {},
   "outputs": [],
   "source": []
  }
 ],
 "metadata": {
  "kernelspec": {
   "display_name": "housing_project",
   "language": "python",
   "name": "housing_project"
  },
  "language_info": {
   "codemirror_mode": {
    "name": "ipython",
    "version": 3
   },
   "file_extension": ".py",
   "mimetype": "text/x-python",
   "name": "python",
   "nbconvert_exporter": "python",
   "pygments_lexer": "ipython3",
   "version": "3.12.2"
  }
 },
 "nbformat": 4,
 "nbformat_minor": 5
}
