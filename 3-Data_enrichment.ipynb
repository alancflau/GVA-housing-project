{
 "cells": [
  {
   "cell_type": "code",
   "execution_count": 1,
   "id": "3f9aed20-779a-4a86-8d38-67ea73a634e4",
   "metadata": {},
   "outputs": [],
   "source": [
    "import pandas as pd\n",
    "import sqlite3\n",
    "import src.data_enrichment as enrich\n",
    "import src.helpers as helpers\n",
    "import src.login_config as login_config"
   ]
  },
  {
   "cell_type": "code",
   "execution_count": 2,
   "id": "a0485315-23ec-485f-a175-3f9e69994567",
   "metadata": {},
   "outputs": [],
   "source": [
    "# Read in data\n",
    "conn = sqlite3.connect(\"housing_information.db\")\n",
    "data_df = pd.read_sql_query('SELECT * FROM df_listings', conn)"
   ]
  },
  {
   "cell_type": "markdown",
   "id": "85652e5c-7c40-4887-b0b5-0953520e5fff",
   "metadata": {},
   "source": [
    "## Data enrichment"
   ]
  },
  {
   "cell_type": "code",
   "execution_count": 3,
   "id": "72b5eb0a-5758-4f05-a4aa-8315f53eeedf",
   "metadata": {},
   "outputs": [],
   "source": [
    "data_df['house_age'] = data_df['approx_age'].apply(enrich.age_of_house)\n",
    "data_df['difference_in_days'] = data_df.apply(lambda row: enrich.calculate_days_to_sell(row['list_date'], row['end_date']), axis=1)\n",
    "data_df['price_difference_abs'] = data_df.apply(lambda row: enrich.calculate_price_diff_or_pct(row['list_price'], row['sold_price'], 'difference'), axis=1)\n",
    "data_df['price_difference_pct'] = data_df.apply(lambda row: enrich.calculate_price_diff_or_pct(row['list_price'], row['sold_price'], 'percentage'), axis=1)"
   ]
  },
  {
   "cell_type": "markdown",
   "id": "f81d4ded-a36c-475f-8a7b-fc9dda77fb99",
   "metadata": {},
   "source": [
    "## Data Exploration"
   ]
  },
  {
   "cell_type": "markdown",
   "id": "d200e586-fc6f-4da1-8dd2-ebca9f4225ac",
   "metadata": {},
   "source": [
    "### Address \n",
    "\n",
    "Currently the address name is retrieved in the following format:\n",
    "<br> - \"Property Address: {name of address}, {city}, {province}\"\n",
    "<br> - Example: 'Property Address: Juneau Street, Burnaby, British Columbia'\n",
    "<br>\n",
    "<br> We only need the {name of address}. We will perform regex in order to retrieve it."
   ]
  },
  {
   "cell_type": "code",
   "execution_count": 4,
   "id": "1a91285c-4b3c-4d97-a1cb-7cce24a69dd0",
   "metadata": {},
   "outputs": [],
   "source": [
    "# Clean up \"property_addr\" field\n",
    "data_df['Address_Clean'] = data_df['property_addr'].apply(enrich.regex_cleanup)"
   ]
  },
  {
   "cell_type": "markdown",
   "id": "4187b658-7dea-468e-b59c-d501438fb806",
   "metadata": {},
   "source": [
    "The following addresses need to be updated. For some odd reason, the data scrape algorithm did not catch the full address of these names. We will need to manually check and verify the correct name of the address."
   ]
  },
  {
   "cell_type": "code",
   "execution_count": 5,
   "id": "2792535b-2c06-4a55-885a-f353352432a6",
   "metadata": {
    "scrolled": true
   },
   "outputs": [],
   "source": [
    "# few rows that needs to be replaced\n",
    "# Juneau Street -> 1301 - 4488 Juneau Street\n",
    "# Soball Street -> 38 - 1295 Soball Street\n",
    "# Seaham Crescent -> 11300 Seaham Crescent\n",
    "# Yale Street -> 2558 Yale Street [ But remove this since lot was bought]\n",
    "\n",
    "data_df.loc[data_df['Address_Clean'] == 'Juneau Street','Address_Clean'] ='1301 - 4488 Juneau Street'\n",
    "data_df.loc[data_df['Address_Clean'] == 'Soball Street','Address_Clean'] ='38 - 1295 Soball Street'\n",
    "data_df.loc[data_df['Address_Clean'] == 'Seaham Crescent','Address_Clean'] ='11300 Seaham Crescent'\n",
    "data_df = data_df[data_df.Address_Clean != 'Yale Street']"
   ]
  },
  {
   "cell_type": "markdown",
   "id": "0165e49c-1560-4adc-b6c0-4d2c71cc6a5b",
   "metadata": {},
   "source": [
    "### Home type"
   ]
  },
  {
   "cell_type": "code",
   "execution_count": 6,
   "id": "2b7dc73a-bf31-4750-b260-1dd77f63eeb7",
   "metadata": {},
   "outputs": [
    {
     "data": {
      "text/plain": [
       "house_type\n",
       "Apartment/Condominium      7383\n",
       "Single Family Residence    4341\n",
       "Townhouse                  2758\n",
       "Multi Family                345\n",
       "Manufactured Home            43\n",
       "Manufactured On Land         20\n",
       "Duplex                       17\n",
       "Quadruplex                    4\n",
       "Triplex                       3\n",
       "Condo Apt                     1\n",
       "House                         1\n",
       "Name: count, dtype: int64"
      ]
     },
     "execution_count": 6,
     "metadata": {},
     "output_type": "execute_result"
    }
   ],
   "source": [
    "data_df.house_type.value_counts()"
   ]
  },
  {
   "cell_type": "markdown",
   "id": "c6e8501d-fae4-4d1d-b66a-320f54d77b42",
   "metadata": {},
   "source": [
    "Notice above that house type are categorized into multiple categories. However, the ones with low value counts actually below in one of the following categories:\n",
    "<br> - Apartment/Condominium\n",
    "<br> - Single Family Residence\n",
    "<br> - Townhouse"
   ]
  },
  {
   "cell_type": "code",
   "execution_count": 7,
   "id": "00c028f9-d546-4a8a-b2e1-0e55fd8f7564",
   "metadata": {
    "scrolled": true
   },
   "outputs": [],
   "source": [
    "data_df['Home_type'] = data_df['house_type'] \n",
    "\n",
    "data_df.loc[data_df['house_type'] == 'Quadruplex','Home_type'] ='House'\n",
    "data_df.loc[data_df['house_type'] == 'Manufactured On Land','Home_type'] ='House'\n",
    "data_df.loc[data_df['house_type'] == 'Condo Apt','Home_type'] ='Apartment/Condominium'\n",
    "data_df.loc[data_df['house_type'] == 'Triplex','Home_type'] ='House'\n",
    "data_df.loc[data_df['house_type'] == 'Duplex','Home_type'] ='House'\n",
    "data_df.loc[data_df['house_type'] == 'Manufactured Home','Home_type'] ='House'\n",
    "data_df.loc[data_df['house_type'] == 'Multi Family','Home_type'] ='House'\n",
    "data_df.loc[data_df['house_type'] == 'Single Family Residence','Home_type'] ='House'"
   ]
  },
  {
   "cell_type": "markdown",
   "id": "56df2db5-4e2e-41a1-bc41-36fac8df2760",
   "metadata": {},
   "source": [
    "Let's verify that the changes have indeed been made"
   ]
  },
  {
   "cell_type": "code",
   "execution_count": 8,
   "id": "43227a3d-1f03-46b0-9554-b30ab13f3441",
   "metadata": {},
   "outputs": [
    {
     "data": {
      "text/plain": [
       "Home_type\n",
       "Apartment/Condominium    7384\n",
       "House                    4774\n",
       "Townhouse                2758\n",
       "Name: count, dtype: int64"
      ]
     },
     "execution_count": 8,
     "metadata": {},
     "output_type": "execute_result"
    }
   ],
   "source": [
    "data_df.Home_type.value_counts()"
   ]
  },
  {
   "cell_type": "markdown",
   "id": "c06eab41-1e69-405b-82a4-1f3a5df00186",
   "metadata": {},
   "source": [
    "### Maintanience fee\n",
    "Remove it as they are all blanks. We will revisit this later\n",
    "<br> For Apartment/Condominum, we could fetch this data off of condos.ca. There may be a better way to retrieve maintenacne fee. In the meantime, let's not include this column in the master copy."
   ]
  },
  {
   "cell_type": "code",
   "execution_count": 9,
   "id": "4437ae32-c4f5-472c-b767-c641bd9e051e",
   "metadata": {},
   "outputs": [
    {
     "data": {
      "text/plain": [
       "maint_fee\n",
       "$843    1\n",
       "Name: count, dtype: int64"
      ]
     },
     "execution_count": 9,
     "metadata": {},
     "output_type": "execute_result"
    }
   ],
   "source": [
    "data_df.maint_fee.value_counts()"
   ]
  },
  {
   "cell_type": "markdown",
   "id": "eabc454a-34df-407c-b31e-77140fa92a53",
   "metadata": {},
   "source": [
    "### Levels"
   ]
  },
  {
   "cell_type": "code",
   "execution_count": 10,
   "id": "d640827a-3137-4f33-a9d9-c1b9972db0b9",
   "metadata": {},
   "outputs": [
    {
     "data": {
      "text/plain": [
       "levels\n",
       "Residential           14891\n",
       "Residential Income       24\n",
       "Land                      3\n",
       "Residential Lease         1\n",
       "Apartment                 1\n",
       "Detached                  1\n",
       "Name: count, dtype: int64"
      ]
     },
     "execution_count": 10,
     "metadata": {},
     "output_type": "execute_result"
    }
   ],
   "source": [
    "data_df.levels.value_counts()"
   ]
  },
  {
   "cell_type": "markdown",
   "id": "d8163cfb-ce40-41f4-ba36-bdddf7a841dc",
   "metadata": {},
   "source": [
    "Based on the distribution of the field \"levels\". It seems that this variable is not that useful as majority of the listings are classified as \"Residential\". Therefore we will not include this variable in the final dataframe to work with."
   ]
  },
  {
   "cell_type": "markdown",
   "id": "88101fac-1e40-4786-ad32-edaa5eb7b050",
   "metadata": {},
   "source": [
    "### Garage "
   ]
  },
  {
   "cell_type": "code",
   "execution_count": 11,
   "id": "0c270179-8d77-4404-ad0d-c5694215c78d",
   "metadata": {},
   "outputs": [
    {
     "data": {
      "text/plain": [
       "garage\n",
       "Yes          12830\n",
       "No            2089\n",
       "Undergrnd        1\n",
       "Name: count, dtype: int64"
      ]
     },
     "execution_count": 11,
     "metadata": {},
     "output_type": "execute_result"
    }
   ],
   "source": [
    "data_df.garage.value_counts()"
   ]
  },
  {
   "cell_type": "markdown",
   "id": "e6b4f5c5-73e6-480e-a8e3-c628780b268f",
   "metadata": {},
   "source": [
    "Notice there is one row that lists as \"Undergrnd\". Will update from \"Undergrnd\" to \"Yes\"."
   ]
  },
  {
   "cell_type": "code",
   "execution_count": 12,
   "id": "a07816af-76fa-4c6a-babb-97430899e431",
   "metadata": {},
   "outputs": [],
   "source": [
    "data_df.loc[data_df['garage'] == 'Undergrnd','garage'] ='Yes'"
   ]
  },
  {
   "cell_type": "markdown",
   "id": "9d061a61-542e-4165-a46e-bfbb22cf48a4",
   "metadata": {},
   "source": [
    "Verification"
   ]
  },
  {
   "cell_type": "code",
   "execution_count": 13,
   "id": "8370a414-955f-4a42-bb67-af3c381f8f02",
   "metadata": {},
   "outputs": [
    {
     "data": {
      "text/plain": [
       "garage\n",
       "Yes    12831\n",
       "No      2089\n",
       "Name: count, dtype: int64"
      ]
     },
     "execution_count": 13,
     "metadata": {},
     "output_type": "execute_result"
    }
   ],
   "source": [
    "data_df.garage.value_counts()"
   ]
  },
  {
   "cell_type": "markdown",
   "id": "2c6c0d4c-14c5-4fd1-aca6-93e84f328973",
   "metadata": {},
   "source": [
    "### House age\n",
    "There are 6 rows (listings) where house age is not calculated. This it because no built age was provided."
   ]
  },
  {
   "cell_type": "code",
   "execution_count": 14,
   "id": "8433bbbf-9444-4ff0-a9e4-cf6cf6b5c1cd",
   "metadata": {},
   "outputs": [
    {
     "name": "stdout",
     "output_type": "stream",
     "text": [
      "The total # of rows before dropping nas is: 14921\n",
      "The total # of rows after dropping nas is: 14915\n"
     ]
    }
   ],
   "source": [
    "print('The total # of rows before dropping nas is:', len(data_df)) # Before dropping nas\n",
    "data_df = data_df.dropna(axis = 0, subset = ['house_age']).reset_index(drop = True)\n",
    "print('The total # of rows after dropping nas is:', len(data_df)) # After dropping nas --  Before dropping nas - After dropping nas = 6 rows"
   ]
  },
  {
   "cell_type": "markdown",
   "id": "2c5e55f2-9f41-485a-a4f1-328c8f005c25",
   "metadata": {},
   "source": [
    "Create master dataframe"
   ]
  },
  {
   "cell_type": "code",
   "execution_count": 15,
   "id": "573fd1e5-003e-4c2f-9c43-9c8d354fba6d",
   "metadata": {},
   "outputs": [],
   "source": [
    "columns_to_keep = ['mls_number', 'Address_Clean', 'City', 'Home_type', 'approx_age', 'house_age', \n",
    "                   'garage','garage_size','taxes', 'avg_price_sqft', 'bedroom','bathroom','list_date',\n",
    "                   'list_price','end_date','sold_price', 'difference_in_days','price_difference_abs', \n",
    "                   'price_difference_pct']\n",
    "\n",
    "df_master = data_df[columns_to_keep].copy()\n",
    "\n",
    "df_master.rename(columns = {'Address_Clean': 'address',\n",
    "                            'approx_age': 'yr_built',\n",
    "                            'house_age': 'home_age'}, inplace = True)\n",
    "df_master.columns = map(str.lower, df_master.columns)"
   ]
  },
  {
   "cell_type": "markdown",
   "id": "bb738945-c05f-427a-a6fc-bd360149d416",
   "metadata": {},
   "source": [
    "## Features"
   ]
  },
  {
   "cell_type": "code",
   "execution_count": 30,
   "id": "5c3d0c85-1d74-4ad9-a55e-a67c5e221b8c",
   "metadata": {},
   "outputs": [],
   "source": [
    "import googlemaps\n",
    "gmaps = googlemaps.Client(key = login_config.GEOCODE_KEY)"
   ]
  },
  {
   "cell_type": "code",
   "execution_count": 68,
   "id": "d82e85ef-b289-41f0-b740-2d4f98a70c3c",
   "metadata": {},
   "outputs": [],
   "source": [
    "df_master['geocode_json'] = df_master.apply(lambda row: enrich.geocode_json(row['address'], row['city'], gmaps), axis=1)\n",
    "df_master['geocode_json'] = df_master['geocode_json'].astype(str)"
   ]
  },
  {
   "cell_type": "code",
   "execution_count": 69,
   "id": "b6a43118-01c0-4795-ac09-ac77716212d3",
   "metadata": {
    "scrolled": true
   },
   "outputs": [],
   "source": [
    "# #Store this in a database, # saving progress\n",
    "\n",
    "# # conn = sqlite3.connect(\"housing_information.db\")\n",
    "\n",
    "# ##push the dataframe to sql \n",
    "# df_master.to_sql(\"df_master\", conn, if_exists=\"replace\", index = False)\n",
    "\n",
    "# ##create the table\n",
    "\n",
    "# conn.execute(\n",
    "#     \"\"\"\n",
    "#     create table my_table_master as \n",
    "#     select * from df_master\n",
    "#     \"\"\")"
   ]
  },
  {
   "cell_type": "code",
   "execution_count": 8,
   "id": "e39430ee-88c2-4fb6-ab22-cec6f72c8bee",
   "metadata": {},
   "outputs": [],
   "source": [
    "# # Read data back in\n",
    "# # Read in data\n",
    "# conn = sqlite3.connect(\"housing_information.db\")\n",
    "# df_master = pd.read_sql_query('SELECT * FROM df_master', conn)"
   ]
  },
  {
   "cell_type": "code",
   "execution_count": 9,
   "id": "974a0729-aacc-4ada-a89c-d4b574f0fc6a",
   "metadata": {
    "scrolled": true
   },
   "outputs": [],
   "source": [
    "# import ast\n",
    "df_master['geocode_json'] = df_master['geocode_json'].apply(ast.literal_eval)\n",
    "df_master['postal_code'] = df_master['geocode_json'].apply(enrich.extract_geocode_postal)"
   ]
  },
  {
   "cell_type": "code",
   "execution_count": null,
   "id": "acc86a35-e820-4771-9fd0-3cc24d3ef72d",
   "metadata": {},
   "outputs": [],
   "source": [
    "df_master['index_col'] = range(0,len(df_master))"
   ]
  },
  {
   "cell_type": "markdown",
   "id": "9b59882d-2d6a-4520-ad69-0c9473ca1db4",
   "metadata": {},
   "source": [
    "There are some rows where the postal code is not length 7. By definition, in Canada, postal code should be in the following format: \n",
    "<br> - A1A 1A1, where A is letter and 1 is a digit, with a space separating the third and fourth characters. Therefore the length of the postal code is 7."
   ]
  },
  {
   "cell_type": "code",
   "execution_count": 32,
   "id": "02ccdd26-4d96-4aa1-a168-44c7642d902f",
   "metadata": {},
   "outputs": [
    {
     "name": "stdout",
     "output_type": "stream",
     "text": [
      "The number of rows where postal code == 7 is: 13838\n",
      "The number of rows where postal code != 7 is: 1077\n"
     ]
    }
   ],
   "source": [
    "filtered_df_equal_7  = df_master[df_master['postal_code'].str.len() == 7]\n",
    "print(f\"The number of rows where postal code == 7 is: {len(filtered_df_equal_7 )}\")\n",
    "\n",
    "filtered_df_not_equal_7 = df_master[df_master['postal_code'].str.len() != 7]\n",
    "print(f\"The number of rows where postal code != 7 is: {len(filtered_df_not_equal_7 )}\")"
   ]
  },
  {
   "cell_type": "markdown",
   "id": "5a355e28-ac79-4e3d-aa1f-363cedd10aa5",
   "metadata": {},
   "source": [
    "There are a total of 1077 rows (listings) where the postal codes do not match the format of a canadian postal code. Let's explore.\n",
    "\n",
    "Example #1:"
   ]
  },
  {
   "cell_type": "code",
   "execution_count": 36,
   "id": "eed7e489-7ee0-4ccc-a762-1e4ae2a17bdd",
   "metadata": {},
   "outputs": [
    {
     "data": {
      "text/plain": [
       "[{'address_components': [{'long_name': 'Burnaby',\n",
       "    'short_name': 'Burnaby',\n",
       "    'types': ['locality', 'political']},\n",
       "   {'long_name': 'Metro Vancouver',\n",
       "    'short_name': 'Metro Vancouver',\n",
       "    'types': ['administrative_area_level_2', 'political']},\n",
       "   {'long_name': 'British Columbia',\n",
       "    'short_name': 'BC',\n",
       "    'types': ['administrative_area_level_1', 'political']},\n",
       "   {'long_name': 'Canada',\n",
       "    'short_name': 'CA',\n",
       "    'types': ['country', 'political']}],\n",
       "  'formatted_address': 'Burnaby, BC, Canada',\n",
       "  'geometry': {'bounds': {'northeast': {'lat': 49.2993349, 'lng': -122.891689},\n",
       "    'southwest': {'lat': 49.180637, 'lng': -123.0246499}},\n",
       "   'location': {'lat': 49.2488091, 'lng': -122.9805104},\n",
       "   'location_type': 'APPROXIMATE',\n",
       "   'viewport': {'northeast': {'lat': 49.2993349, 'lng': -122.891689},\n",
       "    'southwest': {'lat': 49.180637, 'lng': -123.0246499}}},\n",
       "  'partial_match': True,\n",
       "  'place_id': 'ChIJc4OcIah3hlQRabFSh3NyCt0',\n",
       "  'types': ['locality', 'political']}]"
      ]
     },
     "execution_count": 36,
     "metadata": {},
     "output_type": "execute_result"
    }
   ],
   "source": [
    "filtered_df_not_equal_7['geocode_json'][38] # Doesn't seem like searching address with just street + city is enough."
   ]
  },
  {
   "cell_type": "code",
   "execution_count": 47,
   "id": "f3a2b51a-190b-4884-8e9f-ceae91e52dc5",
   "metadata": {},
   "outputs": [
    {
     "data": {
      "text/plain": [
       "[{'address_components': [{'long_name': '365',\n",
       "    'short_name': '365',\n",
       "    'types': ['street_number']},\n",
       "   {'long_name': 'East 16th Street',\n",
       "    'short_name': 'E 16th St',\n",
       "    'types': ['route']},\n",
       "   {'long_name': 'Esther Short',\n",
       "    'short_name': 'Esther Short',\n",
       "    'types': ['neighborhood', 'political']},\n",
       "   {'long_name': 'Vancouver',\n",
       "    'short_name': 'Vancouver',\n",
       "    'types': ['locality', 'political']},\n",
       "   {'long_name': 'Clark County',\n",
       "    'short_name': 'Clark County',\n",
       "    'types': ['administrative_area_level_2', 'political']},\n",
       "   {'long_name': 'Washington',\n",
       "    'short_name': 'WA',\n",
       "    'types': ['administrative_area_level_1', 'political']},\n",
       "   {'long_name': 'United States',\n",
       "    'short_name': 'US',\n",
       "    'types': ['country', 'political']},\n",
       "   {'long_name': '98663', 'short_name': '98663', 'types': ['postal_code']},\n",
       "   {'long_name': '3410',\n",
       "    'short_name': '3410',\n",
       "    'types': ['postal_code_suffix']}],\n",
       "  'formatted_address': '365 E 16th St, Vancouver, WA 98663, USA',\n",
       "  'geometry': {'location': {'lat': 45.6331656, 'lng': -122.6685487},\n",
       "   'location_type': 'RANGE_INTERPOLATED',\n",
       "   'viewport': {'northeast': {'lat': 45.6346005802915,\n",
       "     'lng': -122.6671992197085},\n",
       "    'southwest': {'lat': 45.63190261970851, 'lng': -122.6698971802915}}},\n",
       "  'place_id': 'EiczNjUgRSAxNnRoIFN0LCBWYW5jb3V2ZXIsIFdBIDk4NjYzLCBVU0EiMRIvChQKEgkxEZobtaiVVBG6crbTkp4E5xDtAioUChIJ5T9flE-vlVQRJnGbqaZwxS4',\n",
       "  'types': ['street_address']}]"
      ]
     },
     "execution_count": 47,
     "metadata": {},
     "output_type": "execute_result"
    }
   ],
   "source": [
    "# Example 2:\n",
    "filtered_df_not_equal_7['geocode_json'][14911] # seems like there is a similar location in the USA. There is a city in USA called Vancouver"
   ]
  },
  {
   "cell_type": "markdown",
   "id": "639b0872-eb80-4a57-9604-038a87fc98ae",
   "metadata": {},
   "source": [
    "Let's re-run the addresses in filtered_df_not_equal_7, where postal codes did not have length == 7. Let's tweak our function enrich.geocode_json to include provincial and country during the search of the geocode json"
   ]
  },
  {
   "cell_type": "code",
   "execution_count": 53,
   "id": "f6d2cf63-0ee3-4bdb-9697-a0cea233ad9c",
   "metadata": {},
   "outputs": [
    {
     "name": "stderr",
     "output_type": "stream",
     "text": [
      "C:\\Users\\Alan\\AppData\\Local\\Temp\\ipykernel_16588\\211698072.py:1: SettingWithCopyWarning: \n",
      "A value is trying to be set on a copy of a slice from a DataFrame.\n",
      "Try using .loc[row_indexer,col_indexer] = value instead\n",
      "\n",
      "See the caveats in the documentation: https://pandas.pydata.org/pandas-docs/stable/user_guide/indexing.html#returning-a-view-versus-a-copy\n",
      "  filtered_df_not_equal_7['postal_code_correction'] = filtered_df_not_equal_7.apply(lambda row: enrich.geocode_json(row['address'], row['city'], gmaps), axis=1)\n"
     ]
    }
   ],
   "source": [
    "filtered_df_not_equal_7['postal_code_correction'] = filtered_df_not_equal_7.apply(lambda row: enrich.geocode_json(row['address'], row['city'], gmaps), axis=1)\n",
    "filtered_df_not_equal_7['postal_code_correction'] = filtered_df_not_equal_7['geocode_json_rerun'].apply(enrich.extract_geocode_postal)"
   ]
  },
  {
   "cell_type": "code",
   "execution_count": 88,
   "id": "977e40ae-a4c7-46db-94d2-46c5955314de",
   "metadata": {},
   "outputs": [],
   "source": [
    "# rerun_filtered_df_equal_7  = filtered_df_not_equal_7[filtered_df_not_equal_7['postal_code_correction'].str.len() == 7]\n",
    "# print(f\"The number of rows where postal code == 7 is: {len(rerun_filtered_df_equal_7 )}\")\n",
    "\n",
    "# rerun_filtered_df_not_equal_7 = filtered_df_not_equal_7[filtered_df_not_equal_7['postal_code_correction'].str.len() != 7]\n",
    "# print(f\"The number of rows where postal code != 7 is: {len(rerun_filtered_df_not_equal_7 )}\")"
   ]
  },
  {
   "cell_type": "code",
   "execution_count": 89,
   "id": "8663f33c-97d0-4b9c-ba50-b8c25d49775a",
   "metadata": {},
   "outputs": [],
   "source": [
    "# rerun_filtered_df_not_equal_3 = rerun_filtered_df_not_equal_7[rerun_filtered_df_not_equal_7['postal_code_correction'].str.len() != 3]\n",
    "# print(f\"The number of rows where postal code != 3 is: {len(rerun_filtered_df_not_equal_3 )}\")"
   ]
  },
  {
   "cell_type": "code",
   "execution_count": 112,
   "id": "e5c74023-d748-4c6e-a420-c9e875068277",
   "metadata": {},
   "outputs": [],
   "source": [
    "df1 = filtered_df_equal_7\n",
    "cols_to_add = ['mls_number', 'address', 'city', 'home_type', 'yr_built', 'home_age',\n",
    "       'garage', 'garage_size', 'taxes', 'avg_price_sqft', 'bedroom',\n",
    "       'bathroom', 'list_date', 'list_price', 'end_date', 'sold_price',\n",
    "       'difference_in_days', 'price_difference_abs', 'price_difference_pct',\n",
    "       'geocode_json_rerun', 'postal_code_correction', 'index_col']\n",
    "df2 = filtered_df_not_equal_7[cols_to_add]\n",
    "df2 = df2.rename(columns = {'geocode_json_rerun': 'geocode_json',\n",
    "                  'postal_code_correction': 'postal_code'})\n",
    "# geocode_json_rerun, postal_code_correction\n",
    "remaster_df = pd.concat([df1, df2])\n",
    "remaster_df = remaster_df.sort_values(by = ['index_col'], ascending = True)"
   ]
  },
  {
   "cell_type": "code",
   "execution_count": 116,
   "id": "2691d91a-6965-461a-881c-9d0508498d2c",
   "metadata": {},
   "outputs": [],
   "source": [
    "remaster_df['geocode_json'] = remaster_df['geocode_json'].astype(str)"
   ]
  },
  {
   "cell_type": "code",
   "execution_count": 118,
   "id": "c4454c87-3b3a-4cd3-8952-19c6e4867e50",
   "metadata": {
    "scrolled": true
   },
   "outputs": [
    {
     "data": {
      "text/plain": [
       "<sqlite3.Cursor at 0x1ba9ee20240>"
      ]
     },
     "execution_count": 118,
     "metadata": {},
     "output_type": "execute_result"
    }
   ],
   "source": [
    "#Store this in a database, # saving progress\n",
    "\n",
    "conn = sqlite3.connect(\"housing_information.db\")\n",
    "\n",
    "##push the dataframe to sql \n",
    "remaster_df.to_sql(\"remaster_df\", conn, if_exists=\"replace\", index = False)\n",
    "\n",
    "##create the table\n",
    "\n",
    "conn.execute(\n",
    "    \"\"\"\n",
    "    create table my_table_remaster as \n",
    "    select * from remaster_df\n",
    "    \"\"\")"
   ]
  },
  {
   "cell_type": "code",
   "execution_count": 119,
   "id": "f09d69fc-444f-4265-93b7-19f93d480fcd",
   "metadata": {},
   "outputs": [],
   "source": [
    "conn = sqlite3.connect(\"housing_information.db\")\n",
    "df_master = pd.read_sql_query('SELECT * FROM remaster_df', conn)"
   ]
  },
  {
   "cell_type": "code",
   "execution_count": 86,
   "id": "f3c83e74-d705-415a-a441-46f84a51ff11",
   "metadata": {},
   "outputs": [],
   "source": [
    "import geopy\n",
    "geo_locator = geopy.Nominatim(user_agent='1234')\n",
    "                        # Latitude, Longitude\n",
    "r = geo_locator.reverse((49.28376261, -122.7932065))\n",
    "# print(r.raw['address']['postcode'])"
   ]
  },
  {
   "cell_type": "code",
   "execution_count": 87,
   "id": "acf3493d-1458-44cc-af7a-b8004e147ee1",
   "metadata": {},
   "outputs": [
    {
     "data": {
      "text/plain": [
       "Location(Caffe Divano, 3003, Burlington Drive, Hoy Creek Housing Coop, River Springs, Coquitlam, Metro Vancouver Regional District, British Columbia, V3B 6X1, Canada, (49.2839076, -122.793435, 0.0))"
      ]
     },
     "execution_count": 87,
     "metadata": {},
     "output_type": "execute_result"
    }
   ],
   "source": [
    "r"
   ]
  },
  {
   "cell_type": "code",
   "execution_count": null,
   "id": "66579e7e-02dc-4dc2-ac97-9d69786d0032",
   "metadata": {},
   "outputs": [],
   "source": [
    "# geocode_result = gmaps.geocode(df_master.address[0])"
   ]
  },
  {
   "cell_type": "code",
   "execution_count": 52,
   "id": "8191af6b-b138-41f3-9541-a193c629beee",
   "metadata": {},
   "outputs": [
    {
     "data": {
      "text/plain": [
       "<module 'src.data_enrichment' from 'C:\\\\Users\\\\Alan\\\\Projects\\\\Housing Project\\\\src\\\\data_enrichment.py'>"
      ]
     },
     "execution_count": 52,
     "metadata": {},
     "output_type": "execute_result"
    }
   ],
   "source": [
    "import importlib\n",
    "importlib.reload(enrich)"
   ]
  },
  {
   "cell_type": "code",
   "execution_count": null,
   "id": "0ec9c2cf-8e63-4618-949c-5973cb5325ce",
   "metadata": {},
   "outputs": [],
   "source": []
  }
 ],
 "metadata": {
  "kernelspec": {
   "display_name": "housing_project",
   "language": "python",
   "name": "housing_project"
  },
  "language_info": {
   "codemirror_mode": {
    "name": "ipython",
    "version": 3
   },
   "file_extension": ".py",
   "mimetype": "text/x-python",
   "name": "python",
   "nbconvert_exporter": "python",
   "pygments_lexer": "ipython3",
   "version": "3.12.2"
  }
 },
 "nbformat": 4,
 "nbformat_minor": 5
}
