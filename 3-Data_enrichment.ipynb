{
 "cells": [
  {
   "cell_type": "code",
   "execution_count": 2,
   "id": "3f9aed20-779a-4a86-8d38-67ea73a634e4",
   "metadata": {},
   "outputs": [],
   "source": [
    "import pandas as pd\n",
    "import sqlite3\n",
    "import src.data_enrichment as enrich\n",
    "import src.helpers as helpers\n",
    "import src.login_config as login_config"
   ]
  },
  {
   "cell_type": "code",
   "execution_count": 2,
   "id": "a0485315-23ec-485f-a175-3f9e69994567",
   "metadata": {},
   "outputs": [],
   "source": [
    "# Read in data\n",
    "conn = sqlite3.connect(\"housing_information.db\")\n",
    "data_df = pd.read_sql_query('SELECT * FROM df_listings', conn)"
   ]
  },
  {
   "cell_type": "markdown",
   "id": "85652e5c-7c40-4887-b0b5-0953520e5fff",
   "metadata": {},
   "source": [
    "## Data enrichment"
   ]
  },
  {
   "cell_type": "code",
   "execution_count": 3,
   "id": "72b5eb0a-5758-4f05-a4aa-8315f53eeedf",
   "metadata": {},
   "outputs": [],
   "source": [
    "data_df['house_age'] = data_df['approx_age'].apply(enrich.age_of_house)\n",
    "data_df['difference_in_days'] = data_df.apply(lambda row: enrich.calculate_days_to_sell(row['list_date'], row['end_date']), axis=1)\n",
    "data_df['price_difference_abs'] = data_df.apply(lambda row: enrich.calculate_price_diff_or_pct(row['list_price'], row['sold_price'], 'difference'), axis=1)\n",
    "data_df['price_difference_pct'] = data_df.apply(lambda row: enrich.calculate_price_diff_or_pct(row['list_price'], row['sold_price'], 'percentage'), axis=1)"
   ]
  },
  {
   "cell_type": "markdown",
   "id": "f81d4ded-a36c-475f-8a7b-fc9dda77fb99",
   "metadata": {},
   "source": [
    "## Data Exploration"
   ]
  },
  {
   "cell_type": "markdown",
   "id": "d200e586-fc6f-4da1-8dd2-ebca9f4225ac",
   "metadata": {},
   "source": [
    "### Address \n",
    "\n",
    "Currently the address name is retrieved in the following format:\n",
    "<br> - \"Property Address: {name of address}, {city}, {province}\"\n",
    "<br> - Example: 'Property Address: Juneau Street, Burnaby, British Columbia'\n",
    "<br>\n",
    "<br> We only need the {name of address}. We will perform regex in order to retrieve it."
   ]
  },
  {
   "cell_type": "code",
   "execution_count": 4,
   "id": "1a91285c-4b3c-4d97-a1cb-7cce24a69dd0",
   "metadata": {},
   "outputs": [],
   "source": [
    "# Clean up \"property_addr\" field\n",
    "data_df['Address_Clean'] = data_df['property_addr'].apply(enrich.regex_cleanup)"
   ]
  },
  {
   "cell_type": "markdown",
   "id": "4187b658-7dea-468e-b59c-d501438fb806",
   "metadata": {},
   "source": [
    "The following addresses need to be updated. For some odd reason, the data scrape algorithm did not catch the full address of these names. We will need to manually check and verify the correct name of the address."
   ]
  },
  {
   "cell_type": "code",
   "execution_count": 5,
   "id": "2792535b-2c06-4a55-885a-f353352432a6",
   "metadata": {
    "scrolled": true
   },
   "outputs": [],
   "source": [
    "# few rows that needs to be replaced\n",
    "# Juneau Street -> 1301 - 4488 Juneau Street\n",
    "# Soball Street -> 38 - 1295 Soball Street\n",
    "# Seaham Crescent -> 11300 Seaham Crescent\n",
    "# Yale Street -> 2558 Yale Street [ But remove this since lot was bought]\n",
    "\n",
    "data_df.loc[data_df['Address_Clean'] == 'Juneau Street','Address_Clean'] ='1301 - 4488 Juneau Street'\n",
    "data_df.loc[data_df['Address_Clean'] == 'Soball Street','Address_Clean'] ='38 - 1295 Soball Street'\n",
    "data_df.loc[data_df['Address_Clean'] == 'Seaham Crescent','Address_Clean'] ='11300 Seaham Crescent'\n",
    "data_df = data_df[data_df.Address_Clean != 'Yale Street']"
   ]
  },
  {
   "cell_type": "markdown",
   "id": "0165e49c-1560-4adc-b6c0-4d2c71cc6a5b",
   "metadata": {},
   "source": [
    "### Home type"
   ]
  },
  {
   "cell_type": "code",
   "execution_count": 6,
   "id": "2b7dc73a-bf31-4750-b260-1dd77f63eeb7",
   "metadata": {},
   "outputs": [
    {
     "data": {
      "text/plain": [
       "house_type\n",
       "Apartment/Condominium      7383\n",
       "Single Family Residence    4341\n",
       "Townhouse                  2758\n",
       "Multi Family                345\n",
       "Manufactured Home            43\n",
       "Manufactured On Land         20\n",
       "Duplex                       17\n",
       "Quadruplex                    4\n",
       "Triplex                       3\n",
       "Condo Apt                     1\n",
       "House                         1\n",
       "Name: count, dtype: int64"
      ]
     },
     "execution_count": 6,
     "metadata": {},
     "output_type": "execute_result"
    }
   ],
   "source": [
    "data_df.house_type.value_counts()"
   ]
  },
  {
   "cell_type": "markdown",
   "id": "c6e8501d-fae4-4d1d-b66a-320f54d77b42",
   "metadata": {},
   "source": [
    "Notice above that house type are categorized into multiple categories. However, the ones with low value counts actually below in one of the following categories:\n",
    "<br> - Apartment/Condominium\n",
    "<br> - Single Family Residence\n",
    "<br> - Townhouse"
   ]
  },
  {
   "cell_type": "code",
   "execution_count": 7,
   "id": "00c028f9-d546-4a8a-b2e1-0e55fd8f7564",
   "metadata": {
    "scrolled": true
   },
   "outputs": [],
   "source": [
    "data_df['Home_type'] = data_df['house_type'] \n",
    "\n",
    "data_df.loc[data_df['house_type'] == 'Quadruplex','Home_type'] ='House'\n",
    "data_df.loc[data_df['house_type'] == 'Manufactured On Land','Home_type'] ='House'\n",
    "data_df.loc[data_df['house_type'] == 'Condo Apt','Home_type'] ='Apartment/Condominium'\n",
    "data_df.loc[data_df['house_type'] == 'Triplex','Home_type'] ='House'\n",
    "data_df.loc[data_df['house_type'] == 'Duplex','Home_type'] ='House'\n",
    "data_df.loc[data_df['house_type'] == 'Manufactured Home','Home_type'] ='House'\n",
    "data_df.loc[data_df['house_type'] == 'Multi Family','Home_type'] ='House'\n",
    "data_df.loc[data_df['house_type'] == 'Single Family Residence','Home_type'] ='House'"
   ]
  },
  {
   "cell_type": "markdown",
   "id": "56df2db5-4e2e-41a1-bc41-36fac8df2760",
   "metadata": {},
   "source": [
    "Let's verify that the changes have indeed been made"
   ]
  },
  {
   "cell_type": "code",
   "execution_count": 8,
   "id": "43227a3d-1f03-46b0-9554-b30ab13f3441",
   "metadata": {},
   "outputs": [
    {
     "data": {
      "text/plain": [
       "Home_type\n",
       "Apartment/Condominium    7384\n",
       "House                    4774\n",
       "Townhouse                2758\n",
       "Name: count, dtype: int64"
      ]
     },
     "execution_count": 8,
     "metadata": {},
     "output_type": "execute_result"
    }
   ],
   "source": [
    "data_df.Home_type.value_counts()"
   ]
  },
  {
   "cell_type": "markdown",
   "id": "c06eab41-1e69-405b-82a4-1f3a5df00186",
   "metadata": {},
   "source": [
    "### Maintanience fee\n",
    "Remove it as they are all blanks. We will revisit this later\n",
    "<br> For Apartment/Condominum, we could fetch this data off of condos.ca. There may be a better way to retrieve maintenacne fee. In the meantime, let's not include this column in the master copy."
   ]
  },
  {
   "cell_type": "code",
   "execution_count": 9,
   "id": "4437ae32-c4f5-472c-b767-c641bd9e051e",
   "metadata": {},
   "outputs": [
    {
     "data": {
      "text/plain": [
       "maint_fee\n",
       "$843    1\n",
       "Name: count, dtype: int64"
      ]
     },
     "execution_count": 9,
     "metadata": {},
     "output_type": "execute_result"
    }
   ],
   "source": [
    "data_df.maint_fee.value_counts()"
   ]
  },
  {
   "cell_type": "markdown",
   "id": "eabc454a-34df-407c-b31e-77140fa92a53",
   "metadata": {},
   "source": [
    "### Levels"
   ]
  },
  {
   "cell_type": "code",
   "execution_count": 10,
   "id": "d640827a-3137-4f33-a9d9-c1b9972db0b9",
   "metadata": {},
   "outputs": [
    {
     "data": {
      "text/plain": [
       "levels\n",
       "Residential           14891\n",
       "Residential Income       24\n",
       "Land                      3\n",
       "Residential Lease         1\n",
       "Apartment                 1\n",
       "Detached                  1\n",
       "Name: count, dtype: int64"
      ]
     },
     "execution_count": 10,
     "metadata": {},
     "output_type": "execute_result"
    }
   ],
   "source": [
    "data_df.levels.value_counts()"
   ]
  },
  {
   "cell_type": "markdown",
   "id": "d8163cfb-ce40-41f4-ba36-bdddf7a841dc",
   "metadata": {},
   "source": [
    "Based on the distribution of the field \"levels\". It seems that this variable is not that useful as majority of the listings are classified as \"Residential\". Therefore we will not include this variable in the final dataframe to work with."
   ]
  },
  {
   "cell_type": "markdown",
   "id": "88101fac-1e40-4786-ad32-edaa5eb7b050",
   "metadata": {},
   "source": [
    "### Garage "
   ]
  },
  {
   "cell_type": "code",
   "execution_count": 11,
   "id": "0c270179-8d77-4404-ad0d-c5694215c78d",
   "metadata": {},
   "outputs": [
    {
     "data": {
      "text/plain": [
       "garage\n",
       "Yes          12830\n",
       "No            2089\n",
       "Undergrnd        1\n",
       "Name: count, dtype: int64"
      ]
     },
     "execution_count": 11,
     "metadata": {},
     "output_type": "execute_result"
    }
   ],
   "source": [
    "data_df.garage.value_counts()"
   ]
  },
  {
   "cell_type": "markdown",
   "id": "e6b4f5c5-73e6-480e-a8e3-c628780b268f",
   "metadata": {},
   "source": [
    "Notice there is one row that lists as \"Undergrnd\". Will update from \"Undergrnd\" to \"Yes\"."
   ]
  },
  {
   "cell_type": "code",
   "execution_count": 12,
   "id": "a07816af-76fa-4c6a-babb-97430899e431",
   "metadata": {},
   "outputs": [],
   "source": [
    "data_df.loc[data_df['garage'] == 'Undergrnd','garage'] ='Yes'"
   ]
  },
  {
   "cell_type": "markdown",
   "id": "9d061a61-542e-4165-a46e-bfbb22cf48a4",
   "metadata": {},
   "source": [
    "Verification"
   ]
  },
  {
   "cell_type": "code",
   "execution_count": 13,
   "id": "8370a414-955f-4a42-bb67-af3c381f8f02",
   "metadata": {},
   "outputs": [
    {
     "data": {
      "text/plain": [
       "garage\n",
       "Yes    12831\n",
       "No      2089\n",
       "Name: count, dtype: int64"
      ]
     },
     "execution_count": 13,
     "metadata": {},
     "output_type": "execute_result"
    }
   ],
   "source": [
    "data_df.garage.value_counts()"
   ]
  },
  {
   "cell_type": "markdown",
   "id": "2c6c0d4c-14c5-4fd1-aca6-93e84f328973",
   "metadata": {},
   "source": [
    "### House age\n",
    "There are 6 rows (listings) where house age is not calculated. This it because no built age was provided."
   ]
  },
  {
   "cell_type": "code",
   "execution_count": 14,
   "id": "8433bbbf-9444-4ff0-a9e4-cf6cf6b5c1cd",
   "metadata": {},
   "outputs": [
    {
     "name": "stdout",
     "output_type": "stream",
     "text": [
      "The total # of rows before dropping nas is: 14921\n",
      "The total # of rows after dropping nas is: 14915\n"
     ]
    }
   ],
   "source": [
    "print('The total # of rows before dropping nas is:', len(data_df)) # Before dropping nas\n",
    "data_df = data_df.dropna(axis = 0, subset = ['house_age']).reset_index(drop = True)\n",
    "print('The total # of rows after dropping nas is:', len(data_df)) # After dropping nas --  Before dropping nas - After dropping nas = 6 rows"
   ]
  },
  {
   "cell_type": "markdown",
   "id": "2c5e55f2-9f41-485a-a4f1-328c8f005c25",
   "metadata": {},
   "source": [
    "Create master dataframe"
   ]
  },
  {
   "cell_type": "code",
   "execution_count": 15,
   "id": "573fd1e5-003e-4c2f-9c43-9c8d354fba6d",
   "metadata": {},
   "outputs": [],
   "source": [
    "columns_to_keep = ['mls_number', 'Address_Clean', 'City', 'Home_type', 'approx_age', 'house_age', \n",
    "                   'garage','garage_size','taxes', 'avg_price_sqft', 'bedroom','bathroom','list_date',\n",
    "                   'list_price','end_date','sold_price', 'difference_in_days','price_difference_abs', \n",
    "                   'price_difference_pct']\n",
    "\n",
    "df_master = data_df[columns_to_keep].copy()\n",
    "\n",
    "df_master.rename(columns = {'Address_Clean': 'address',\n",
    "                            'approx_age': 'yr_built',\n",
    "                            'house_age': 'home_age'}, inplace = True)\n",
    "df_master.columns = map(str.lower, df_master.columns)"
   ]
  },
  {
   "cell_type": "markdown",
   "id": "bb738945-c05f-427a-a6fc-bd360149d416",
   "metadata": {},
   "source": [
    "## Features"
   ]
  },
  {
   "cell_type": "code",
   "execution_count": 30,
   "id": "5c3d0c85-1d74-4ad9-a55e-a67c5e221b8c",
   "metadata": {},
   "outputs": [],
   "source": [
    "import googlemaps\n",
    "gmaps = googlemaps.Client(key = login_config.GEOCODE_KEY)"
   ]
  },
  {
   "cell_type": "code",
   "execution_count": 68,
   "id": "d82e85ef-b289-41f0-b740-2d4f98a70c3c",
   "metadata": {},
   "outputs": [],
   "source": [
    "df_master['geocode_json'] = df_master.apply(lambda row: enrich.geocode_json(row['address'], row['city'], gmaps), axis=1)\n",
    "df_master['geocode_json'] = df_master['geocode_json'].astype(str)"
   ]
  },
  {
   "cell_type": "code",
   "execution_count": 69,
   "id": "b6a43118-01c0-4795-ac09-ac77716212d3",
   "metadata": {
    "scrolled": true
   },
   "outputs": [],
   "source": [
    "# #Store this in a database, # saving progress\n",
    "\n",
    "# # conn = sqlite3.connect(\"housing_information.db\")\n",
    "\n",
    "# ##push the dataframe to sql \n",
    "# df_master.to_sql(\"df_master\", conn, if_exists=\"replace\", index = False)\n",
    "\n",
    "# ##create the table\n",
    "\n",
    "# conn.execute(\n",
    "#     \"\"\"\n",
    "#     create table my_table_master as \n",
    "#     select * from df_master\n",
    "#     \"\"\")"
   ]
  },
  {
   "cell_type": "code",
   "execution_count": 8,
   "id": "e39430ee-88c2-4fb6-ab22-cec6f72c8bee",
   "metadata": {},
   "outputs": [],
   "source": [
    "# # Read data back in\n",
    "# # Read in data\n",
    "# conn = sqlite3.connect(\"housing_information.db\")\n",
    "# df_master = pd.read_sql_query('SELECT * FROM df_master', conn)"
   ]
  },
  {
   "cell_type": "code",
   "execution_count": 9,
   "id": "974a0729-aacc-4ada-a89c-d4b574f0fc6a",
   "metadata": {
    "scrolled": true
   },
   "outputs": [],
   "source": [
    "# import ast\n",
    "df_master['geocode_json'] = df_master['geocode_json'].apply(ast.literal_eval)\n",
    "df_master['postal_code'] = df_master['geocode_json'].apply(enrich.extract_geocode_postal)"
   ]
  },
  {
   "cell_type": "code",
   "execution_count": null,
   "id": "acc86a35-e820-4771-9fd0-3cc24d3ef72d",
   "metadata": {},
   "outputs": [],
   "source": [
    "df_master['index_col'] = range(0,len(df_master))"
   ]
  },
  {
   "cell_type": "markdown",
   "id": "9b59882d-2d6a-4520-ad69-0c9473ca1db4",
   "metadata": {},
   "source": [
    "There are some rows where the postal code is not length 7. By definition, in Canada, postal code should be in the following format: \n",
    "<br> - A1A 1A1, where A is letter and 1 is a digit, with a space separating the third and fourth characters. Therefore the length of the postal code is 7."
   ]
  },
  {
   "cell_type": "code",
   "execution_count": 32,
   "id": "02ccdd26-4d96-4aa1-a168-44c7642d902f",
   "metadata": {},
   "outputs": [
    {
     "name": "stdout",
     "output_type": "stream",
     "text": [
      "The number of rows where postal code == 7 is: 13838\n",
      "The number of rows where postal code != 7 is: 1077\n"
     ]
    }
   ],
   "source": [
    "filtered_df_equal_7  = df_master[df_master['postal_code'].str.len() == 7]\n",
    "print(f\"The number of rows where postal code == 7 is: {len(filtered_df_equal_7 )}\")\n",
    "\n",
    "filtered_df_not_equal_7 = df_master[df_master['postal_code'].str.len() != 7]\n",
    "print(f\"The number of rows where postal code != 7 is: {len(filtered_df_not_equal_7 )}\")"
   ]
  },
  {
   "cell_type": "markdown",
   "id": "5a355e28-ac79-4e3d-aa1f-363cedd10aa5",
   "metadata": {},
   "source": [
    "There are a total of 1077 rows (listings) where the postal codes do not match the format of a canadian postal code. Let's explore.\n",
    "\n",
    "Example #1:"
   ]
  },
  {
   "cell_type": "code",
   "execution_count": 36,
   "id": "eed7e489-7ee0-4ccc-a762-1e4ae2a17bdd",
   "metadata": {},
   "outputs": [
    {
     "data": {
      "text/plain": [
       "[{'address_components': [{'long_name': 'Burnaby',\n",
       "    'short_name': 'Burnaby',\n",
       "    'types': ['locality', 'political']},\n",
       "   {'long_name': 'Metro Vancouver',\n",
       "    'short_name': 'Metro Vancouver',\n",
       "    'types': ['administrative_area_level_2', 'political']},\n",
       "   {'long_name': 'British Columbia',\n",
       "    'short_name': 'BC',\n",
       "    'types': ['administrative_area_level_1', 'political']},\n",
       "   {'long_name': 'Canada',\n",
       "    'short_name': 'CA',\n",
       "    'types': ['country', 'political']}],\n",
       "  'formatted_address': 'Burnaby, BC, Canada',\n",
       "  'geometry': {'bounds': {'northeast': {'lat': 49.2993349, 'lng': -122.891689},\n",
       "    'southwest': {'lat': 49.180637, 'lng': -123.0246499}},\n",
       "   'location': {'lat': 49.2488091, 'lng': -122.9805104},\n",
       "   'location_type': 'APPROXIMATE',\n",
       "   'viewport': {'northeast': {'lat': 49.2993349, 'lng': -122.891689},\n",
       "    'southwest': {'lat': 49.180637, 'lng': -123.0246499}}},\n",
       "  'partial_match': True,\n",
       "  'place_id': 'ChIJc4OcIah3hlQRabFSh3NyCt0',\n",
       "  'types': ['locality', 'political']}]"
      ]
     },
     "execution_count": 36,
     "metadata": {},
     "output_type": "execute_result"
    }
   ],
   "source": [
    "filtered_df_not_equal_7['geocode_json'][38] # Doesn't seem like searching address with just street + city is enough."
   ]
  },
  {
   "cell_type": "code",
   "execution_count": 47,
   "id": "f3a2b51a-190b-4884-8e9f-ceae91e52dc5",
   "metadata": {},
   "outputs": [
    {
     "data": {
      "text/plain": [
       "[{'address_components': [{'long_name': '365',\n",
       "    'short_name': '365',\n",
       "    'types': ['street_number']},\n",
       "   {'long_name': 'East 16th Street',\n",
       "    'short_name': 'E 16th St',\n",
       "    'types': ['route']},\n",
       "   {'long_name': 'Esther Short',\n",
       "    'short_name': 'Esther Short',\n",
       "    'types': ['neighborhood', 'political']},\n",
       "   {'long_name': 'Vancouver',\n",
       "    'short_name': 'Vancouver',\n",
       "    'types': ['locality', 'political']},\n",
       "   {'long_name': 'Clark County',\n",
       "    'short_name': 'Clark County',\n",
       "    'types': ['administrative_area_level_2', 'political']},\n",
       "   {'long_name': 'Washington',\n",
       "    'short_name': 'WA',\n",
       "    'types': ['administrative_area_level_1', 'political']},\n",
       "   {'long_name': 'United States',\n",
       "    'short_name': 'US',\n",
       "    'types': ['country', 'political']},\n",
       "   {'long_name': '98663', 'short_name': '98663', 'types': ['postal_code']},\n",
       "   {'long_name': '3410',\n",
       "    'short_name': '3410',\n",
       "    'types': ['postal_code_suffix']}],\n",
       "  'formatted_address': '365 E 16th St, Vancouver, WA 98663, USA',\n",
       "  'geometry': {'location': {'lat': 45.6331656, 'lng': -122.6685487},\n",
       "   'location_type': 'RANGE_INTERPOLATED',\n",
       "   'viewport': {'northeast': {'lat': 45.6346005802915,\n",
       "     'lng': -122.6671992197085},\n",
       "    'southwest': {'lat': 45.63190261970851, 'lng': -122.6698971802915}}},\n",
       "  'place_id': 'EiczNjUgRSAxNnRoIFN0LCBWYW5jb3V2ZXIsIFdBIDk4NjYzLCBVU0EiMRIvChQKEgkxEZobtaiVVBG6crbTkp4E5xDtAioUChIJ5T9flE-vlVQRJnGbqaZwxS4',\n",
       "  'types': ['street_address']}]"
      ]
     },
     "execution_count": 47,
     "metadata": {},
     "output_type": "execute_result"
    }
   ],
   "source": [
    "# Example 2:\n",
    "filtered_df_not_equal_7['geocode_json'][14911] # seems like there is a similar location in the USA. There is a city in USA called Vancouver"
   ]
  },
  {
   "cell_type": "markdown",
   "id": "639b0872-eb80-4a57-9604-038a87fc98ae",
   "metadata": {},
   "source": [
    "Let's re-run the addresses in filtered_df_not_equal_7, where postal codes did not have length == 7. Let's tweak our function enrich.geocode_json to include provincial and country during the search of the geocode json"
   ]
  },
  {
   "cell_type": "code",
   "execution_count": 53,
   "id": "f6d2cf63-0ee3-4bdb-9697-a0cea233ad9c",
   "metadata": {},
   "outputs": [
    {
     "name": "stderr",
     "output_type": "stream",
     "text": [
      "C:\\Users\\Alan\\AppData\\Local\\Temp\\ipykernel_16588\\211698072.py:1: SettingWithCopyWarning: \n",
      "A value is trying to be set on a copy of a slice from a DataFrame.\n",
      "Try using .loc[row_indexer,col_indexer] = value instead\n",
      "\n",
      "See the caveats in the documentation: https://pandas.pydata.org/pandas-docs/stable/user_guide/indexing.html#returning-a-view-versus-a-copy\n",
      "  filtered_df_not_equal_7['postal_code_correction'] = filtered_df_not_equal_7.apply(lambda row: enrich.geocode_json(row['address'], row['city'], gmaps), axis=1)\n"
     ]
    }
   ],
   "source": [
    "filtered_df_not_equal_7['postal_code_correction'] = filtered_df_not_equal_7.apply(lambda row: enrich.geocode_json(row['address'], row['city'], gmaps), axis=1)\n",
    "filtered_df_not_equal_7['postal_code_correction'] = filtered_df_not_equal_7['geocode_json_rerun'].apply(enrich.extract_geocode_postal)"
   ]
  },
  {
   "cell_type": "code",
   "execution_count": 88,
   "id": "977e40ae-a4c7-46db-94d2-46c5955314de",
   "metadata": {},
   "outputs": [],
   "source": [
    "# rerun_filtered_df_equal_7  = filtered_df_not_equal_7[filtered_df_not_equal_7['postal_code_correction'].str.len() == 7]\n",
    "# print(f\"The number of rows where postal code == 7 is: {len(rerun_filtered_df_equal_7 )}\")\n",
    "\n",
    "# rerun_filtered_df_not_equal_7 = filtered_df_not_equal_7[filtered_df_not_equal_7['postal_code_correction'].str.len() != 7]\n",
    "# print(f\"The number of rows where postal code != 7 is: {len(rerun_filtered_df_not_equal_7 )}\")"
   ]
  },
  {
   "cell_type": "code",
   "execution_count": 89,
   "id": "8663f33c-97d0-4b9c-ba50-b8c25d49775a",
   "metadata": {},
   "outputs": [],
   "source": [
    "# rerun_filtered_df_not_equal_3 = rerun_filtered_df_not_equal_7[rerun_filtered_df_not_equal_7['postal_code_correction'].str.len() != 3]\n",
    "# print(f\"The number of rows where postal code != 3 is: {len(rerun_filtered_df_not_equal_3 )}\")"
   ]
  },
  {
   "cell_type": "code",
   "execution_count": 112,
   "id": "e5c74023-d748-4c6e-a420-c9e875068277",
   "metadata": {},
   "outputs": [],
   "source": [
    "df1 = filtered_df_equal_7\n",
    "cols_to_add = ['mls_number', 'address', 'city', 'home_type', 'yr_built', 'home_age',\n",
    "       'garage', 'garage_size', 'taxes', 'avg_price_sqft', 'bedroom',\n",
    "       'bathroom', 'list_date', 'list_price', 'end_date', 'sold_price',\n",
    "       'difference_in_days', 'price_difference_abs', 'price_difference_pct',\n",
    "       'geocode_json_rerun', 'postal_code_correction', 'index_col']\n",
    "df2 = filtered_df_not_equal_7[cols_to_add]\n",
    "df2 = df2.rename(columns = {'geocode_json_rerun': 'geocode_json',\n",
    "                  'postal_code_correction': 'postal_code'})\n",
    "# geocode_json_rerun, postal_code_correction\n",
    "remaster_df = pd.concat([df1, df2])\n",
    "remaster_df = remaster_df.sort_values(by = ['index_col'], ascending = True)"
   ]
  },
  {
   "cell_type": "code",
   "execution_count": 116,
   "id": "2691d91a-6965-461a-881c-9d0508498d2c",
   "metadata": {},
   "outputs": [],
   "source": [
    "remaster_df['geocode_json'] = remaster_df['geocode_json'].astype(str)"
   ]
  },
  {
   "cell_type": "code",
   "execution_count": 31,
   "id": "c4454c87-3b3a-4cd3-8952-19c6e4867e50",
   "metadata": {
    "scrolled": true
   },
   "outputs": [
    {
     "data": {
      "text/plain": [
       "<sqlite3.Cursor at 0x206a17de640>"
      ]
     },
     "execution_count": 31,
     "metadata": {},
     "output_type": "execute_result"
    }
   ],
   "source": [
    "# #Store this in a database, # saving progress\n",
    "\n",
    "# conn = sqlite3.connect(\"housing_info.db\")\n",
    "\n",
    "# ##push the dataframe to sql \n",
    "# df_master.to_sql(\"df_master\", conn, if_exists=\"replace\", index = False)\n",
    "\n",
    "# ##create the table\n",
    "\n",
    "# conn.execute(\n",
    "#     \"\"\"\n",
    "#     create table my_table as \n",
    "#     select * from df_master\n",
    "#     \"\"\")"
   ]
  },
  {
   "cell_type": "code",
   "execution_count": 23,
   "id": "f09d69fc-444f-4265-93b7-19f93d480fcd",
   "metadata": {
    "scrolled": true
   },
   "outputs": [],
   "source": [
    "import ast\n",
    "conn = sqlite3.connect(\"housing_info.db\")\n",
    "df_master = pd.read_sql_query('SELECT * FROM df_master', conn)\n",
    "df_master['geocode_json'] = df_master['geocode_json'].apply(ast.literal_eval)"
   ]
  },
  {
   "cell_type": "code",
   "execution_count": 4,
   "id": "f4ab9ac9-eade-4882-abae-388915e38505",
   "metadata": {},
   "outputs": [],
   "source": [
    "# conn = sqlite3.connect(\"housing_dataframes.db\")\n",
    "# cursor = conn.cursor()\n",
    "# cursor.execute(\"SELECT name FROM sqlite_master WHERE type='table';\")\n",
    "# print(cursor.fetchall())"
   ]
  },
  {
   "cell_type": "code",
   "execution_count": 5,
   "id": "b0987611-359a-4497-833e-6910b9b1117f",
   "metadata": {},
   "outputs": [],
   "source": [
    "# cursor.execute(\"DROP TABLE my_table_master;\")"
   ]
  },
  {
   "cell_type": "code",
   "execution_count": 24,
   "id": "99198cfe-e53a-4db3-8fbb-fc63439478e7",
   "metadata": {},
   "outputs": [
    {
     "name": "stdout",
     "output_type": "stream",
     "text": [
      "The number of rows where postal code == 7 is: 14397\n",
      "The number of rows where postal code != 7 is: 518\n"
     ]
    }
   ],
   "source": [
    "filtered_df_equal_7  = df_master[df_master['postal_code'].str.len() == 7]\n",
    "print(f\"The number of rows where postal code == 7 is: {len(filtered_df_equal_7 )}\")\n",
    "\n",
    "filtered_df_not_equal_7 = df_master[df_master['postal_code'].str.len() != 7]\n",
    "print(f\"The number of rows where postal code != 7 is: {len(filtered_df_not_equal_7 )}\")"
   ]
  },
  {
   "cell_type": "markdown",
   "id": "734c6824-5c79-4a91-b7f0-3866c6716180",
   "metadata": {},
   "source": [
    "Of the postal codes where the length is not equal to 7 (Canadian format). Let's determine what the formats are like"
   ]
  },
  {
   "cell_type": "code",
   "execution_count": 25,
   "id": "92ef5bd4-c18e-433f-9c42-df881c6edd99",
   "metadata": {},
   "outputs": [
    {
     "data": {
      "text/plain": [
       "38       None\n",
       "62        V5A\n",
       "84        V5C\n",
       "153       V5G\n",
       "162       V5H\n",
       "         ... \n",
       "14871    None\n",
       "14893    None\n",
       "14900    None\n",
       "14907    None\n",
       "14913     V5T\n",
       "Name: postal_code, Length: 518, dtype: object"
      ]
     },
     "execution_count": 25,
     "metadata": {},
     "output_type": "execute_result"
    }
   ],
   "source": [
    "filtered_df_not_equal_7.postal_code"
   ]
  },
  {
   "cell_type": "markdown",
   "id": "76e1da23-0722-4698-9618-0da3f1220957",
   "metadata": {},
   "source": [
    "### Postal Code format description\n",
    "We can see that some postal codes have the first three characters of the postal code. According to the definition of a canadian postal code, the first three characters of a postal determine the following: \n",
    "<br> - First letter denotes a particular \"postal district\", which outside of Quebec and Ontario, corresponds to an entire province or territory.\n",
    "<br> - Second letter denotes a specific rurual region, an entire medium-sized city or a section of a major metropolitian area.\n",
    "<br> - Third letter denotes an extract area if it is a city/town or other geographic area\n",
    "<br> Local Delivery Unit (LDU) makes up the remaining characters of the postal code. This is for determining the specific building, city block for delivery. Therefore, the first 3 characters is sufficient in determining the approximate location.\n",
    "<br>\n",
    "<br>For a better depiction of the list of codes, please visit https://www.canadapost-postescanada.ca/cpc/en/support/articles/addressing-guidelines/postal-codes.page#:~:text=Two%20segments%20make%20up%20a,numeric%2Dalpha%2Dnumeric).\n",
    "\n",
    "Source: https://en.wikipedia.org/wiki/Postal_codes_in_Canada"
   ]
  },
  {
   "cell_type": "code",
   "execution_count": 26,
   "id": "eab79ef8-c31e-46a5-a67e-71b8a06b653e",
   "metadata": {},
   "outputs": [
    {
     "name": "stdout",
     "output_type": "stream",
     "text": [
      "108\n"
     ]
    }
   ],
   "source": [
    "filtered_df_not_equal_7_3 = filtered_df_not_equal_7[filtered_df_not_equal_7['postal_code'].str.len() != 3]\n",
    "print(len(filtered_df_not_equal_7_3))"
   ]
  },
  {
   "cell_type": "markdown",
   "id": "2c2aeed8-604b-4779-8684-1da4a9afee68",
   "metadata": {},
   "source": [
    "There are 108 rows (or listings) that do not have consist 3 characters in their postal code."
   ]
  },
  {
   "cell_type": "code",
   "execution_count": 102,
   "id": "e22c236f-58e4-4b87-96d2-b5e3c0be0be3",
   "metadata": {
    "scrolled": true
   },
   "outputs": [
    {
     "data": {
      "text/html": [
       "<div>\n",
       "<style scoped>\n",
       "    .dataframe tbody tr th:only-of-type {\n",
       "        vertical-align: middle;\n",
       "    }\n",
       "\n",
       "    .dataframe tbody tr th {\n",
       "        vertical-align: top;\n",
       "    }\n",
       "\n",
       "    .dataframe thead th {\n",
       "        text-align: right;\n",
       "    }\n",
       "</style>\n",
       "<table border=\"1\" class=\"dataframe\">\n",
       "  <thead>\n",
       "    <tr style=\"text-align: right;\">\n",
       "      <th></th>\n",
       "      <th>mls_number</th>\n",
       "      <th>address</th>\n",
       "      <th>city</th>\n",
       "      <th>home_type</th>\n",
       "      <th>yr_built</th>\n",
       "      <th>home_age</th>\n",
       "      <th>garage</th>\n",
       "      <th>garage_size</th>\n",
       "      <th>taxes</th>\n",
       "      <th>avg_price_sqft</th>\n",
       "      <th>...</th>\n",
       "      <th>list_date</th>\n",
       "      <th>list_price</th>\n",
       "      <th>end_date</th>\n",
       "      <th>sold_price</th>\n",
       "      <th>difference_in_days</th>\n",
       "      <th>price_difference_abs</th>\n",
       "      <th>price_difference_pct</th>\n",
       "      <th>geocode_json</th>\n",
       "      <th>postal_code</th>\n",
       "      <th>index_col</th>\n",
       "    </tr>\n",
       "  </thead>\n",
       "  <tbody>\n",
       "    <tr>\n",
       "      <th>10293</th>\n",
       "      <td>R2793090</td>\n",
       "      <td>341 N Dollarton Highway</td>\n",
       "      <td>vancouver</td>\n",
       "      <td>House</td>\n",
       "      <td>1974.0</td>\n",
       "      <td>50.0</td>\n",
       "      <td>No</td>\n",
       "      <td>4.0</td>\n",
       "      <td>$6,240</td>\n",
       "      <td>$640</td>\n",
       "      <td>...</td>\n",
       "      <td>15/08/2023</td>\n",
       "      <td>$1,799,900</td>\n",
       "      <td>09/09/2023</td>\n",
       "      <td>$1,790,000</td>\n",
       "      <td>25.0</td>\n",
       "      <td>-9900.0</td>\n",
       "      <td>-0.550031</td>\n",
       "      <td>[{'address_components': [{'long_name': 'Dollar...</td>\n",
       "      <td>None</td>\n",
       "      <td>10293</td>\n",
       "    </tr>\n",
       "    <tr>\n",
       "      <th>10325</th>\n",
       "      <td>R2792117</td>\n",
       "      <td>978 Belmont Avenue</td>\n",
       "      <td>vancouver</td>\n",
       "      <td>House</td>\n",
       "      <td>1962.0</td>\n",
       "      <td>62.0</td>\n",
       "      <td>Yes</td>\n",
       "      <td>3.0</td>\n",
       "      <td>$9,027</td>\n",
       "      <td>$1,386</td>\n",
       "      <td>...</td>\n",
       "      <td>04/09/2023</td>\n",
       "      <td>$2,998,000</td>\n",
       "      <td>07/09/2023</td>\n",
       "      <td>$3,000,000</td>\n",
       "      <td>3.0</td>\n",
       "      <td>2000.0</td>\n",
       "      <td>0.066711</td>\n",
       "      <td>[{'address_components': [{'long_name': 'Belmon...</td>\n",
       "      <td>None</td>\n",
       "      <td>10325</td>\n",
       "    </tr>\n",
       "    <tr>\n",
       "      <th>10326</th>\n",
       "      <td>R2811813</td>\n",
       "      <td>302 - 733 W 3rd Street</td>\n",
       "      <td>vancouver</td>\n",
       "      <td>Apartment/Condominium</td>\n",
       "      <td>2015.0</td>\n",
       "      <td>9.0</td>\n",
       "      <td>Yes</td>\n",
       "      <td>1.0</td>\n",
       "      <td>$2,318</td>\n",
       "      <td>$1,024</td>\n",
       "      <td>...</td>\n",
       "      <td>04/09/2023</td>\n",
       "      <td>$889,900</td>\n",
       "      <td>07/09/2023</td>\n",
       "      <td>$889,000</td>\n",
       "      <td>3.0</td>\n",
       "      <td>-900.0</td>\n",
       "      <td>-0.101135</td>\n",
       "      <td>[{'address_components': [{'long_name': 'West 3...</td>\n",
       "      <td>None</td>\n",
       "      <td>10326</td>\n",
       "    </tr>\n",
       "    <tr>\n",
       "      <th>10336</th>\n",
       "      <td>R2784735</td>\n",
       "      <td>2366 Nelson Avenue</td>\n",
       "      <td>vancouver</td>\n",
       "      <td>House</td>\n",
       "      <td>1949.0</td>\n",
       "      <td>75.0</td>\n",
       "      <td>Yes</td>\n",
       "      <td>3.0</td>\n",
       "      <td>$6,821</td>\n",
       "      <td>$1,146</td>\n",
       "      <td>...</td>\n",
       "      <td>04/09/2023</td>\n",
       "      <td>$2,998,000</td>\n",
       "      <td>07/09/2023</td>\n",
       "      <td>$2,850,000</td>\n",
       "      <td>3.0</td>\n",
       "      <td>-148000.0</td>\n",
       "      <td>-4.936624</td>\n",
       "      <td>[{'address_components': [{'long_name': 'Nelson...</td>\n",
       "      <td>None</td>\n",
       "      <td>10336</td>\n",
       "    </tr>\n",
       "    <tr>\n",
       "      <th>10356</th>\n",
       "      <td>R2810467</td>\n",
       "      <td>1015 - 2012 Fullerton Avenue</td>\n",
       "      <td>vancouver</td>\n",
       "      <td>Apartment/Condominium</td>\n",
       "      <td>1972.0</td>\n",
       "      <td>52.0</td>\n",
       "      <td>Yes</td>\n",
       "      <td>1.0</td>\n",
       "      <td>$1,529</td>\n",
       "      <td>$687</td>\n",
       "      <td>...</td>\n",
       "      <td>28/08/2023</td>\n",
       "      <td>$575,000</td>\n",
       "      <td>06/09/2023</td>\n",
       "      <td>$598,900</td>\n",
       "      <td>9.0</td>\n",
       "      <td>23900.0</td>\n",
       "      <td>4.156522</td>\n",
       "      <td>[{'address_components': [{'long_name': '1015',...</td>\n",
       "      <td>None</td>\n",
       "      <td>10356</td>\n",
       "    </tr>\n",
       "    <tr>\n",
       "      <th>10582</th>\n",
       "      <td>R2798338</td>\n",
       "      <td>220 - 2012 Fullerton Avenue</td>\n",
       "      <td>vancouver</td>\n",
       "      <td>Apartment/Condominium</td>\n",
       "      <td>1972.0</td>\n",
       "      <td>52.0</td>\n",
       "      <td>Yes</td>\n",
       "      <td>0.0</td>\n",
       "      <td>$1,090</td>\n",
       "      <td>$641</td>\n",
       "      <td>...</td>\n",
       "      <td>13/07/2023</td>\n",
       "      <td>$450,000</td>\n",
       "      <td>24/08/2023</td>\n",
       "      <td>$450,000</td>\n",
       "      <td>42.0</td>\n",
       "      <td>0.0</td>\n",
       "      <td>0.000000</td>\n",
       "      <td>[{'address_components': [{'long_name': '220', ...</td>\n",
       "      <td>None</td>\n",
       "      <td>10582</td>\n",
       "    </tr>\n",
       "    <tr>\n",
       "      <th>10789</th>\n",
       "      <td>R2806091</td>\n",
       "      <td>113 - 2020 Se Kent Avenue</td>\n",
       "      <td>vancouver</td>\n",
       "      <td>Apartment/Condominium</td>\n",
       "      <td>1994.0</td>\n",
       "      <td>30.0</td>\n",
       "      <td>Yes</td>\n",
       "      <td>1.0</td>\n",
       "      <td>$2,014</td>\n",
       "      <td>$827</td>\n",
       "      <td>...</td>\n",
       "      <td>10/08/2023</td>\n",
       "      <td>$725,000</td>\n",
       "      <td>15/08/2023</td>\n",
       "      <td>$730,000</td>\n",
       "      <td>5.0</td>\n",
       "      <td>5000.0</td>\n",
       "      <td>0.689655</td>\n",
       "      <td>[{'address_components': [{'long_name': 'Vancou...</td>\n",
       "      <td>None</td>\n",
       "      <td>10789</td>\n",
       "    </tr>\n",
       "    <tr>\n",
       "      <th>10823</th>\n",
       "      <td>R2796849</td>\n",
       "      <td>105 - 1990 Se Kent Avenue</td>\n",
       "      <td>vancouver</td>\n",
       "      <td>Apartment/Condominium</td>\n",
       "      <td>1994.0</td>\n",
       "      <td>30.0</td>\n",
       "      <td>Yes</td>\n",
       "      <td>1.0</td>\n",
       "      <td>$2,095</td>\n",
       "      <td>$771</td>\n",
       "      <td>...</td>\n",
       "      <td>09/07/2023</td>\n",
       "      <td>$819,000</td>\n",
       "      <td>14/08/2023</td>\n",
       "      <td>$812,000</td>\n",
       "      <td>36.0</td>\n",
       "      <td>-7000.0</td>\n",
       "      <td>-0.854701</td>\n",
       "      <td>[{'address_components': [{'long_name': 'Vancou...</td>\n",
       "      <td>None</td>\n",
       "      <td>10823</td>\n",
       "    </tr>\n",
       "    <tr>\n",
       "      <th>10943</th>\n",
       "      <td>R2805320</td>\n",
       "      <td>602 - 719 W 3rd Street</td>\n",
       "      <td>vancouver</td>\n",
       "      <td>Apartment/Condominium</td>\n",
       "      <td>2017.0</td>\n",
       "      <td>7.0</td>\n",
       "      <td>Yes</td>\n",
       "      <td>1.0</td>\n",
       "      <td>$3,382</td>\n",
       "      <td>$1,061</td>\n",
       "      <td>...</td>\n",
       "      <td>09/08/2023</td>\n",
       "      <td>$1,265,000</td>\n",
       "      <td>09/08/2023</td>\n",
       "      <td>$1,265,000</td>\n",
       "      <td>0.0</td>\n",
       "      <td>0.0</td>\n",
       "      <td>0.000000</td>\n",
       "      <td>[{'address_components': [{'long_name': 'West 3...</td>\n",
       "      <td>None</td>\n",
       "      <td>10943</td>\n",
       "    </tr>\n",
       "    <tr>\n",
       "      <th>11109</th>\n",
       "      <td>R2798035</td>\n",
       "      <td>219 - 723 W 3rd Street</td>\n",
       "      <td>vancouver</td>\n",
       "      <td>Apartment/Condominium</td>\n",
       "      <td>2016.0</td>\n",
       "      <td>8.0</td>\n",
       "      <td>Yes</td>\n",
       "      <td>1.0</td>\n",
       "      <td>$2,174</td>\n",
       "      <td>$1,000</td>\n",
       "      <td>...</td>\n",
       "      <td>25/07/2023</td>\n",
       "      <td>$799,000</td>\n",
       "      <td>02/08/2023</td>\n",
       "      <td>$789,000</td>\n",
       "      <td>8.0</td>\n",
       "      <td>-10000.0</td>\n",
       "      <td>-1.251564</td>\n",
       "      <td>[{'address_components': [{'long_name': 'West 3...</td>\n",
       "      <td>None</td>\n",
       "      <td>11109</td>\n",
       "    </tr>\n",
       "    <tr>\n",
       "      <th>11174</th>\n",
       "      <td>R2787027</td>\n",
       "      <td>512 - 719 W 3rd Street</td>\n",
       "      <td>vancouver</td>\n",
       "      <td>Apartment/Condominium</td>\n",
       "      <td>2017.0</td>\n",
       "      <td>7.0</td>\n",
       "      <td>Yes</td>\n",
       "      <td>1.0</td>\n",
       "      <td>$2,269</td>\n",
       "      <td>$1,051</td>\n",
       "      <td>...</td>\n",
       "      <td>05/06/2023</td>\n",
       "      <td>$849,900</td>\n",
       "      <td>31/07/2023</td>\n",
       "      <td>$825,000</td>\n",
       "      <td>56.0</td>\n",
       "      <td>-24900.0</td>\n",
       "      <td>-2.929756</td>\n",
       "      <td>[{'address_components': [{'long_name': 'West 3...</td>\n",
       "      <td>None</td>\n",
       "      <td>11174</td>\n",
       "    </tr>\n",
       "    <tr>\n",
       "      <th>11182</th>\n",
       "      <td>R2793128</td>\n",
       "      <td>805 - 2012 Fullerton Avenue</td>\n",
       "      <td>vancouver</td>\n",
       "      <td>Apartment/Condominium</td>\n",
       "      <td>1977.0</td>\n",
       "      <td>47.0</td>\n",
       "      <td>Yes</td>\n",
       "      <td>1.0</td>\n",
       "      <td>$1,249</td>\n",
       "      <td>$631</td>\n",
       "      <td>...</td>\n",
       "      <td>26/07/2023</td>\n",
       "      <td>$577,000</td>\n",
       "      <td>31/07/2023</td>\n",
       "      <td>$590,000</td>\n",
       "      <td>5.0</td>\n",
       "      <td>13000.0</td>\n",
       "      <td>2.253033</td>\n",
       "      <td>[{'address_components': [{'long_name': '805', ...</td>\n",
       "      <td>None</td>\n",
       "      <td>11182</td>\n",
       "    </tr>\n",
       "    <tr>\n",
       "      <th>11225</th>\n",
       "      <td>R2795445</td>\n",
       "      <td>4121 St. Pauls Avenue</td>\n",
       "      <td>vancouver</td>\n",
       "      <td>House</td>\n",
       "      <td>1981.0</td>\n",
       "      <td>43.0</td>\n",
       "      <td>Yes</td>\n",
       "      <td>4.0</td>\n",
       "      <td>$8,682</td>\n",
       "      <td>$757</td>\n",
       "      <td>...</td>\n",
       "      <td>04/07/2023</td>\n",
       "      <td>$2,639,000</td>\n",
       "      <td>30/07/2023</td>\n",
       "      <td>$2,550,000</td>\n",
       "      <td>26.0</td>\n",
       "      <td>-89000.0</td>\n",
       "      <td>-3.372490</td>\n",
       "      <td>[{'address_components': [{'long_name': '17th S...</td>\n",
       "      <td>None</td>\n",
       "      <td>11225</td>\n",
       "    </tr>\n",
       "    <tr>\n",
       "      <th>11356</th>\n",
       "      <td>R2798427</td>\n",
       "      <td>1208 - 2012 Fullerton Avenue</td>\n",
       "      <td>vancouver</td>\n",
       "      <td>Apartment/Condominium</td>\n",
       "      <td>1972.0</td>\n",
       "      <td>52.0</td>\n",
       "      <td>Yes</td>\n",
       "      <td>0.0</td>\n",
       "      <td>$1,095</td>\n",
       "      <td>$629</td>\n",
       "      <td>...</td>\n",
       "      <td>14/07/2023</td>\n",
       "      <td>$435,000</td>\n",
       "      <td>24/07/2023</td>\n",
       "      <td>$435,000</td>\n",
       "      <td>10.0</td>\n",
       "      <td>0.0</td>\n",
       "      <td>0.000000</td>\n",
       "      <td>[{'address_components': [{'long_name': '1208',...</td>\n",
       "      <td>None</td>\n",
       "      <td>11356</td>\n",
       "    </tr>\n",
       "    <tr>\n",
       "      <th>11382</th>\n",
       "      <td>R2800213</td>\n",
       "      <td>2276 Nelson Avenue</td>\n",
       "      <td>vancouver</td>\n",
       "      <td>House</td>\n",
       "      <td>1941.0</td>\n",
       "      <td>83.0</td>\n",
       "      <td>Yes</td>\n",
       "      <td>0.0</td>\n",
       "      <td>$6,597</td>\n",
       "      <td>$1,705</td>\n",
       "      <td>...</td>\n",
       "      <td>25/07/2023</td>\n",
       "      <td>$2,899,000</td>\n",
       "      <td>24/07/2023</td>\n",
       "      <td>$2,500,000</td>\n",
       "      <td>-1.0</td>\n",
       "      <td>-399000.0</td>\n",
       "      <td>-13.763367</td>\n",
       "      <td>[{'address_components': [{'long_name': 'Nelson...</td>\n",
       "      <td>None</td>\n",
       "      <td>11382</td>\n",
       "    </tr>\n",
       "    <tr>\n",
       "      <th>11660</th>\n",
       "      <td>R2798099</td>\n",
       "      <td>407 - 2020 Se Kent Avenue</td>\n",
       "      <td>vancouver</td>\n",
       "      <td>Apartment/Condominium</td>\n",
       "      <td>1994.0</td>\n",
       "      <td>30.0</td>\n",
       "      <td>Yes</td>\n",
       "      <td>1.0</td>\n",
       "      <td>$1,375</td>\n",
       "      <td>$923</td>\n",
       "      <td>...</td>\n",
       "      <td>25/07/2023</td>\n",
       "      <td>$629,000</td>\n",
       "      <td>15/07/2023</td>\n",
       "      <td>$629,000</td>\n",
       "      <td>-10.0</td>\n",
       "      <td>0.0</td>\n",
       "      <td>0.000000</td>\n",
       "      <td>[{'address_components': [{'long_name': 'Vancou...</td>\n",
       "      <td>None</td>\n",
       "      <td>11660</td>\n",
       "    </tr>\n",
       "    <tr>\n",
       "      <th>11747</th>\n",
       "      <td>R2795760</td>\n",
       "      <td>1104 - 188 E Esplanade Street</td>\n",
       "      <td>vancouver</td>\n",
       "      <td>Apartment/Condominium</td>\n",
       "      <td>2008.0</td>\n",
       "      <td>16.0</td>\n",
       "      <td>Yes</td>\n",
       "      <td>1.0</td>\n",
       "      <td>$2,565</td>\n",
       "      <td>$877</td>\n",
       "      <td>...</td>\n",
       "      <td>05/07/2023</td>\n",
       "      <td>$880,000</td>\n",
       "      <td>11/07/2023</td>\n",
       "      <td>$888,000</td>\n",
       "      <td>6.0</td>\n",
       "      <td>8000.0</td>\n",
       "      <td>0.909091</td>\n",
       "      <td>[{'address_components': [{'long_name': 'Vancou...</td>\n",
       "      <td>None</td>\n",
       "      <td>11747</td>\n",
       "    </tr>\n",
       "    <tr>\n",
       "      <th>11757</th>\n",
       "      <td>R2793694</td>\n",
       "      <td>1243 Mill Street</td>\n",
       "      <td>vancouver</td>\n",
       "      <td>Townhouse</td>\n",
       "      <td>1978.0</td>\n",
       "      <td>46.0</td>\n",
       "      <td>No</td>\n",
       "      <td>2.0</td>\n",
       "      <td>$4,421</td>\n",
       "      <td>$868</td>\n",
       "      <td>...</td>\n",
       "      <td>27/06/2023</td>\n",
       "      <td>$1,550,000</td>\n",
       "      <td>10/07/2023</td>\n",
       "      <td>$1,495,000</td>\n",
       "      <td>13.0</td>\n",
       "      <td>-55000.0</td>\n",
       "      <td>-3.548387</td>\n",
       "      <td>[{'address_components': [{'long_name': 'Vancou...</td>\n",
       "      <td>None</td>\n",
       "      <td>11757</td>\n",
       "    </tr>\n",
       "    <tr>\n",
       "      <th>11882</th>\n",
       "      <td>R2787000</td>\n",
       "      <td>410 - 2008 Fullerton Avenue</td>\n",
       "      <td>vancouver</td>\n",
       "      <td>Apartment/Condominium</td>\n",
       "      <td>1977.0</td>\n",
       "      <td>47.0</td>\n",
       "      <td>Yes</td>\n",
       "      <td>1.0</td>\n",
       "      <td>$1,014</td>\n",
       "      <td>$725</td>\n",
       "      <td>...</td>\n",
       "      <td>08/06/2023</td>\n",
       "      <td>$445,000</td>\n",
       "      <td>05/07/2023</td>\n",
       "      <td>$435,000</td>\n",
       "      <td>27.0</td>\n",
       "      <td>-10000.0</td>\n",
       "      <td>-2.247191</td>\n",
       "      <td>[{'address_components': [{'long_name': '410', ...</td>\n",
       "      <td>None</td>\n",
       "      <td>11882</td>\n",
       "    </tr>\n",
       "    <tr>\n",
       "      <th>11951</th>\n",
       "      <td>R2789135</td>\n",
       "      <td>30 Whitecap Court</td>\n",
       "      <td>vancouver</td>\n",
       "      <td>Townhouse</td>\n",
       "      <td>2001.0</td>\n",
       "      <td>23.0</td>\n",
       "      <td>Yes</td>\n",
       "      <td>4.0</td>\n",
       "      <td>$6,559</td>\n",
       "      <td>$641</td>\n",
       "      <td>...</td>\n",
       "      <td>14/06/2023</td>\n",
       "      <td>$1,399,000</td>\n",
       "      <td>29/06/2023</td>\n",
       "      <td>$1,370,000</td>\n",
       "      <td>15.0</td>\n",
       "      <td>-29000.0</td>\n",
       "      <td>-2.072909</td>\n",
       "      <td>[{'address_components': [{'long_name': 'Vancou...</td>\n",
       "      <td>None</td>\n",
       "      <td>11951</td>\n",
       "    </tr>\n",
       "  </tbody>\n",
       "</table>\n",
       "<p>20 rows × 22 columns</p>\n",
       "</div>"
      ],
      "text/plain": [
       "      mls_number                        address       city  \\\n",
       "10293   R2793090        341 N Dollarton Highway  vancouver   \n",
       "10325   R2792117             978 Belmont Avenue  vancouver   \n",
       "10326   R2811813         302 - 733 W 3rd Street  vancouver   \n",
       "10336   R2784735             2366 Nelson Avenue  vancouver   \n",
       "10356   R2810467   1015 - 2012 Fullerton Avenue  vancouver   \n",
       "10582   R2798338    220 - 2012 Fullerton Avenue  vancouver   \n",
       "10789   R2806091      113 - 2020 Se Kent Avenue  vancouver   \n",
       "10823   R2796849      105 - 1990 Se Kent Avenue  vancouver   \n",
       "10943   R2805320         602 - 719 W 3rd Street  vancouver   \n",
       "11109   R2798035         219 - 723 W 3rd Street  vancouver   \n",
       "11174   R2787027         512 - 719 W 3rd Street  vancouver   \n",
       "11182   R2793128    805 - 2012 Fullerton Avenue  vancouver   \n",
       "11225   R2795445          4121 St. Pauls Avenue  vancouver   \n",
       "11356   R2798427   1208 - 2012 Fullerton Avenue  vancouver   \n",
       "11382   R2800213             2276 Nelson Avenue  vancouver   \n",
       "11660   R2798099      407 - 2020 Se Kent Avenue  vancouver   \n",
       "11747   R2795760  1104 - 188 E Esplanade Street  vancouver   \n",
       "11757   R2793694               1243 Mill Street  vancouver   \n",
       "11882   R2787000    410 - 2008 Fullerton Avenue  vancouver   \n",
       "11951   R2789135              30 Whitecap Court  vancouver   \n",
       "\n",
       "                   home_type  yr_built  home_age garage  garage_size   taxes  \\\n",
       "10293                  House    1974.0      50.0     No          4.0  $6,240   \n",
       "10325                  House    1962.0      62.0    Yes          3.0  $9,027   \n",
       "10326  Apartment/Condominium    2015.0       9.0    Yes          1.0  $2,318   \n",
       "10336                  House    1949.0      75.0    Yes          3.0  $6,821   \n",
       "10356  Apartment/Condominium    1972.0      52.0    Yes          1.0  $1,529   \n",
       "10582  Apartment/Condominium    1972.0      52.0    Yes          0.0  $1,090   \n",
       "10789  Apartment/Condominium    1994.0      30.0    Yes          1.0  $2,014   \n",
       "10823  Apartment/Condominium    1994.0      30.0    Yes          1.0  $2,095   \n",
       "10943  Apartment/Condominium    2017.0       7.0    Yes          1.0  $3,382   \n",
       "11109  Apartment/Condominium    2016.0       8.0    Yes          1.0  $2,174   \n",
       "11174  Apartment/Condominium    2017.0       7.0    Yes          1.0  $2,269   \n",
       "11182  Apartment/Condominium    1977.0      47.0    Yes          1.0  $1,249   \n",
       "11225                  House    1981.0      43.0    Yes          4.0  $8,682   \n",
       "11356  Apartment/Condominium    1972.0      52.0    Yes          0.0  $1,095   \n",
       "11382                  House    1941.0      83.0    Yes          0.0  $6,597   \n",
       "11660  Apartment/Condominium    1994.0      30.0    Yes          1.0  $1,375   \n",
       "11747  Apartment/Condominium    2008.0      16.0    Yes          1.0  $2,565   \n",
       "11757              Townhouse    1978.0      46.0     No          2.0  $4,421   \n",
       "11882  Apartment/Condominium    1977.0      47.0    Yes          1.0  $1,014   \n",
       "11951              Townhouse    2001.0      23.0    Yes          4.0  $6,559   \n",
       "\n",
       "      avg_price_sqft  ...   list_date  list_price    end_date  sold_price  \\\n",
       "10293           $640  ...  15/08/2023  $1,799,900  09/09/2023  $1,790,000   \n",
       "10325         $1,386  ...  04/09/2023  $2,998,000  07/09/2023  $3,000,000   \n",
       "10326         $1,024  ...  04/09/2023    $889,900  07/09/2023    $889,000   \n",
       "10336         $1,146  ...  04/09/2023  $2,998,000  07/09/2023  $2,850,000   \n",
       "10356           $687  ...  28/08/2023    $575,000  06/09/2023    $598,900   \n",
       "10582           $641  ...  13/07/2023    $450,000  24/08/2023    $450,000   \n",
       "10789           $827  ...  10/08/2023    $725,000  15/08/2023    $730,000   \n",
       "10823           $771  ...  09/07/2023    $819,000  14/08/2023    $812,000   \n",
       "10943         $1,061  ...  09/08/2023  $1,265,000  09/08/2023  $1,265,000   \n",
       "11109         $1,000  ...  25/07/2023    $799,000  02/08/2023    $789,000   \n",
       "11174         $1,051  ...  05/06/2023    $849,900  31/07/2023    $825,000   \n",
       "11182           $631  ...  26/07/2023    $577,000  31/07/2023    $590,000   \n",
       "11225           $757  ...  04/07/2023  $2,639,000  30/07/2023  $2,550,000   \n",
       "11356           $629  ...  14/07/2023    $435,000  24/07/2023    $435,000   \n",
       "11382         $1,705  ...  25/07/2023  $2,899,000  24/07/2023  $2,500,000   \n",
       "11660           $923  ...  25/07/2023    $629,000  15/07/2023    $629,000   \n",
       "11747           $877  ...  05/07/2023    $880,000  11/07/2023    $888,000   \n",
       "11757           $868  ...  27/06/2023  $1,550,000  10/07/2023  $1,495,000   \n",
       "11882           $725  ...  08/06/2023    $445,000  05/07/2023    $435,000   \n",
       "11951           $641  ...  14/06/2023  $1,399,000  29/06/2023  $1,370,000   \n",
       "\n",
       "      difference_in_days price_difference_abs  price_difference_pct  \\\n",
       "10293               25.0              -9900.0             -0.550031   \n",
       "10325                3.0               2000.0              0.066711   \n",
       "10326                3.0               -900.0             -0.101135   \n",
       "10336                3.0            -148000.0             -4.936624   \n",
       "10356                9.0              23900.0              4.156522   \n",
       "10582               42.0                  0.0              0.000000   \n",
       "10789                5.0               5000.0              0.689655   \n",
       "10823               36.0              -7000.0             -0.854701   \n",
       "10943                0.0                  0.0              0.000000   \n",
       "11109                8.0             -10000.0             -1.251564   \n",
       "11174               56.0             -24900.0             -2.929756   \n",
       "11182                5.0              13000.0              2.253033   \n",
       "11225               26.0             -89000.0             -3.372490   \n",
       "11356               10.0                  0.0              0.000000   \n",
       "11382               -1.0            -399000.0            -13.763367   \n",
       "11660              -10.0                  0.0              0.000000   \n",
       "11747                6.0               8000.0              0.909091   \n",
       "11757               13.0             -55000.0             -3.548387   \n",
       "11882               27.0             -10000.0             -2.247191   \n",
       "11951               15.0             -29000.0             -2.072909   \n",
       "\n",
       "                                            geocode_json  postal_code  \\\n",
       "10293  [{'address_components': [{'long_name': 'Dollar...         None   \n",
       "10325  [{'address_components': [{'long_name': 'Belmon...         None   \n",
       "10326  [{'address_components': [{'long_name': 'West 3...         None   \n",
       "10336  [{'address_components': [{'long_name': 'Nelson...         None   \n",
       "10356  [{'address_components': [{'long_name': '1015',...         None   \n",
       "10582  [{'address_components': [{'long_name': '220', ...         None   \n",
       "10789  [{'address_components': [{'long_name': 'Vancou...         None   \n",
       "10823  [{'address_components': [{'long_name': 'Vancou...         None   \n",
       "10943  [{'address_components': [{'long_name': 'West 3...         None   \n",
       "11109  [{'address_components': [{'long_name': 'West 3...         None   \n",
       "11174  [{'address_components': [{'long_name': 'West 3...         None   \n",
       "11182  [{'address_components': [{'long_name': '805', ...         None   \n",
       "11225  [{'address_components': [{'long_name': '17th S...         None   \n",
       "11356  [{'address_components': [{'long_name': '1208',...         None   \n",
       "11382  [{'address_components': [{'long_name': 'Nelson...         None   \n",
       "11660  [{'address_components': [{'long_name': 'Vancou...         None   \n",
       "11747  [{'address_components': [{'long_name': 'Vancou...         None   \n",
       "11757  [{'address_components': [{'long_name': 'Vancou...         None   \n",
       "11882  [{'address_components': [{'long_name': '410', ...         None   \n",
       "11951  [{'address_components': [{'long_name': 'Vancou...         None   \n",
       "\n",
       "      index_col  \n",
       "10293     10293  \n",
       "10325     10325  \n",
       "10326     10326  \n",
       "10336     10336  \n",
       "10356     10356  \n",
       "10582     10582  \n",
       "10789     10789  \n",
       "10823     10823  \n",
       "10943     10943  \n",
       "11109     11109  \n",
       "11174     11174  \n",
       "11182     11182  \n",
       "11225     11225  \n",
       "11356     11356  \n",
       "11382     11382  \n",
       "11660     11660  \n",
       "11747     11747  \n",
       "11757     11757  \n",
       "11882     11882  \n",
       "11951     11951  \n",
       "\n",
       "[20 rows x 22 columns]"
      ]
     },
     "execution_count": 102,
     "metadata": {},
     "output_type": "execute_result"
    }
   ],
   "source": [
    "filtered_df_not_equal_7_3[60:80]\n",
    "# 1806 - 2008 Fullerton Avenue -> V7P"
   ]
  },
  {
   "cell_type": "markdown",
   "id": "1caba1ed-c078-4d67-9eeb-1902f00fb260",
   "metadata": {},
   "source": [
    "Let's attempt to replace those \"None\" values to actual postal codes."
   ]
  },
  {
   "cell_type": "code",
   "execution_count": 83,
   "id": "f3c83e74-d705-415a-a441-46f84a51ff11",
   "metadata": {},
   "outputs": [
    {
     "name": "stdout",
     "output_type": "stream",
     "text": [
      "V6Z 2H7\n"
     ]
    }
   ],
   "source": [
    "import geopy\n",
    "geo_locator = geopy.Nominatim(user_agent='my_request')\n",
    "                        # Latitude, Longitude\n",
    "lat = filtered_df_not_equal_7_3['geocode_json'][14485][0]['geometry']['location']['lat']\n",
    "lon = filtered_df_not_equal_7_3['geocode_json'][14485][0]['geometry']['location']['lng']\n",
    "r = geo_locator.reverse((lat, lon))\n",
    "print(r.raw['address']['postcode'])"
   ]
  },
  {
   "cell_type": "code",
   "execution_count": 82,
   "id": "7ba3121a-b6c9-4807-b66b-f9a8136a6fa2",
   "metadata": {},
   "outputs": [
    {
     "name": "stdout",
     "output_type": "stream",
     "text": [
      "49.2071344\n",
      "-123.057276\n"
     ]
    }
   ],
   "source": [
    "print(lat)\n",
    "print(lon)"
   ]
  },
  {
   "cell_type": "markdown",
   "id": "6f936104-f54e-4a3f-bcbb-6ea5b9864464",
   "metadata": {},
   "source": [
    "For some reason, this seems to be pointing to a specific building and multiple addresses are doing. This is not accurate. Since there are only 108 rows, let's try to manually fill the information."
   ]
  },
  {
   "cell_type": "code",
   "execution_count": 98,
   "id": "7c4dd607-7f16-431b-b7f6-638724f44fd7",
   "metadata": {},
   "outputs": [],
   "source": [
    "enrich.regex_fix_misc(df_master)"
   ]
  },
  {
   "cell_type": "code",
   "execution_count": null,
   "id": "400fd882-014d-4f21-b1b5-5f0342715d7f",
   "metadata": {},
   "outputs": [],
   "source": []
  },
  {
   "cell_type": "code",
   "execution_count": null,
   "id": "35a104fe-f65a-4d31-9b82-4068e663774f",
   "metadata": {},
   "outputs": [],
   "source": []
  },
  {
   "cell_type": "code",
   "execution_count": null,
   "id": "88fcc2ca-85a8-48b0-90c2-325bf03ecc30",
   "metadata": {},
   "outputs": [],
   "source": []
  },
  {
   "cell_type": "code",
   "execution_count": 93,
   "id": "b3cc8e8e-d54a-4a69-8369-494af9002fef",
   "metadata": {},
   "outputs": [
    {
     "data": {
      "text/plain": [
       "38    V5E 4M6\n",
       "Name: postal_code, dtype: object"
      ]
     },
     "execution_count": 93,
     "metadata": {},
     "output_type": "execute_result"
    }
   ],
   "source": [
    "df_master.loc[df_master['mls_number'] == 'R2818744','postal_code']"
   ]
  },
  {
   "cell_type": "code",
   "execution_count": null,
   "id": "1fb4866e-3a92-4786-b738-e08f9db7b3f6",
   "metadata": {},
   "outputs": [],
   "source": []
  },
  {
   "cell_type": "code",
   "execution_count": 11,
   "id": "acf3493d-1458-44cc-af7a-b8004e147ee1",
   "metadata": {
    "scrolled": true
   },
   "outputs": [
    {
     "data": {
      "text/plain": [
       "Location(Vancouver Art Gallery, 750, Hornby Street, Yaletown, Downtown, Vancouver, Metro Vancouver Regional District, British Columbia, V6Z 2H7, Canada, (49.28287695, -123.12056364787097, 0.0))"
      ]
     },
     "execution_count": 11,
     "metadata": {},
     "output_type": "execute_result"
    }
   ],
   "source": [
    "r"
   ]
  },
  {
   "cell_type": "code",
   "execution_count": null,
   "id": "66579e7e-02dc-4dc2-ac97-9d69786d0032",
   "metadata": {},
   "outputs": [],
   "source": [
    "# geocode_result = gmaps.geocode(df_master.address[0])"
   ]
  },
  {
   "cell_type": "code",
   "execution_count": 97,
   "id": "8191af6b-b138-41f3-9541-a193c629beee",
   "metadata": {},
   "outputs": [
    {
     "data": {
      "text/plain": [
       "<module 'src.data_enrichment' from 'C:\\\\Users\\\\Alan\\\\Projects\\\\Housing Project\\\\src\\\\data_enrichment.py'>"
      ]
     },
     "execution_count": 97,
     "metadata": {},
     "output_type": "execute_result"
    }
   ],
   "source": [
    "import importlib\n",
    "importlib.reload(enrich)"
   ]
  },
  {
   "cell_type": "code",
   "execution_count": null,
   "id": "0ec9c2cf-8e63-4618-949c-5973cb5325ce",
   "metadata": {},
   "outputs": [],
   "source": []
  }
 ],
 "metadata": {
  "kernelspec": {
   "display_name": "housing_project",
   "language": "python",
   "name": "housing_project"
  },
  "language_info": {
   "codemirror_mode": {
    "name": "ipython",
    "version": 3
   },
   "file_extension": ".py",
   "mimetype": "text/x-python",
   "name": "python",
   "nbconvert_exporter": "python",
   "pygments_lexer": "ipython3",
   "version": "3.12.2"
  }
 },
 "nbformat": 4,
 "nbformat_minor": 5
}
