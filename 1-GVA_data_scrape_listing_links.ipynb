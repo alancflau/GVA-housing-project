{
 "cells": [
  {
   "cell_type": "code",
   "execution_count": 4,
   "id": "6ede25b6-19d7-497b-8b26-274dd27e3e28",
   "metadata": {},
   "outputs": [],
   "source": [
    "import src.login_config as config\n",
    "import src.data_scrape as ds"
   ]
  },
  {
   "cell_type": "code",
   "execution_count": 10,
   "id": "d6dd042e-8880-4137-994c-de8ef7bcb4e7",
   "metadata": {
    "scrolled": true
   },
   "outputs": [
    {
     "name": "stdout",
     "output_type": "stream",
     "text": [
      "Page number is 1\n",
      "# of listings = 27\n",
      "Page number is 2\n",
      "# of listings = 27\n"
     ]
    }
   ],
   "source": [
    "browser = ds.selenium_start()\n",
    "ds.first_time_login(browser)\n",
    "lnks = ds.fn_to_retreive_sold_listings(browser, 'richmond',2)"
   ]
  },
  {
   "cell_type": "code",
   "execution_count": null,
   "id": "f720cb63-e31f-4e5e-b3c7-0c768f0fc2e2",
   "metadata": {},
   "outputs": [],
   "source": [
    "import pandas as pd\n",
    "table = pd.DataFrame(lst_of_listings_links)"
   ]
  },
  {
   "cell_type": "code",
   "execution_count": null,
   "id": "b97f5bbf-f9dc-4a4d-8032-3daac660820b",
   "metadata": {
    "scrolled": true
   },
   "outputs": [],
   "source": [
    "table = table.rename(columns= {0:\"Listing link\"})"
   ]
  },
  {
   "cell_type": "code",
   "execution_count": null,
   "id": "748389ca-efdc-4f02-b324-4fd64d405920",
   "metadata": {},
   "outputs": [],
   "source": [
    "table"
   ]
  },
  {
   "cell_type": "code",
   "execution_count": null,
   "id": "a17d57eb-9df3-456f-ba5e-8abdb83df09c",
   "metadata": {},
   "outputs": [],
   "source": [
    "table['Listing link'].drop_duplicates()"
   ]
  },
  {
   "cell_type": "code",
   "execution_count": null,
   "id": "046e2990-2ed7-404b-88d1-31b1c2afea54",
   "metadata": {},
   "outputs": [],
   "source": [
    "table.to_csv(\"vancouver_sold_listings.csv\")"
   ]
  },
  {
   "cell_type": "code",
   "execution_count": null,
   "id": "f5013123-d50f-4d51-a4c2-fee26f5f8f1a",
   "metadata": {},
   "outputs": [],
   "source": [
    "27*200"
   ]
  },
  {
   "cell_type": "code",
   "execution_count": null,
   "id": "c4c5c1ef-685e-4dc4-a711-f57b7c67da13",
   "metadata": {},
   "outputs": [],
   "source": []
  }
 ],
 "metadata": {
  "kernelspec": {
   "display_name": "housing_project",
   "language": "python",
   "name": "housing_project"
  },
  "language_info": {
   "codemirror_mode": {
    "name": "ipython",
    "version": 3
   },
   "file_extension": ".py",
   "mimetype": "text/x-python",
   "name": "python",
   "nbconvert_exporter": "python",
   "pygments_lexer": "ipython3",
   "version": "3.12.2"
  }
 },
 "nbformat": 4,
 "nbformat_minor": 5
}
