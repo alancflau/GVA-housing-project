{
 "cells": [
  {
   "cell_type": "code",
   "execution_count": 4,
   "id": "6ede25b6-19d7-497b-8b26-274dd27e3e28",
   "metadata": {},
   "outputs": [],
   "source": [
    "import src.login_config as config\n",
    "import src.data_scrape as ds"
   ]
  },
  {
   "cell_type": "code",
   "execution_count": 10,
   "id": "d6dd042e-8880-4137-994c-de8ef7bcb4e7",
   "metadata": {
    "scrolled": true
   },
   "outputs": [
    {
     "name": "stdout",
     "output_type": "stream",
     "text": [
      "Page number is 1\n",
      "# of listings = 27\n",
      "Page number is 2\n",
      "# of listings = 27\n"
     ]
    }
   ],
   "source": [
    "browser = ds.selenium_start()\n",
    "ds.first_time_login(browser)\n",
    "lnks = ds.fn_to_retreive_sold_listings(browser, 'richmond',2)"
   ]
  },
  {
   "cell_type": "code",
   "execution_count": 9,
   "id": "f9a14545-6648-4d58-b6c2-319ad5c59f5a",
   "metadata": {},
   "outputs": [
    {
     "data": {
      "text/plain": [
       "<module 'src.data_scrape' from 'C:\\\\Users\\\\Alan\\\\Projects\\\\Housing Project\\\\src\\\\data_scrape.py'>"
      ]
     },
     "execution_count": 9,
     "metadata": {},
     "output_type": "execute_result"
    }
   ],
   "source": [
    "import importlib\n",
    "importlib.reload(ds)"
   ]
  },
  {
   "cell_type": "code",
   "execution_count": null,
   "id": "797c3bf4-f720-438b-8089-26d8fb91fb03",
   "metadata": {},
   "outputs": [],
   "source": [
    "# Step 1: Log-in w/ credentials [DONE]\n",
    "# Step 2: Sold Prices\n",
    "# Step 3: City (Vancouver)"
   ]
  },
  {
   "cell_type": "code",
   "execution_count": null,
   "id": "fb2860ce-dcb1-46b5-83b0-de93052780a4",
   "metadata": {
    "scrolled": true
   },
   "outputs": [],
   "source": [
    "# from time import sleep\n",
    "# from selenium import webdriver\n",
    "# from selenium.webdriver.common.by import By\n",
    "# from selenium.webdriver.support.ui import WebDriverWait\n",
    "# from selenium.webdriver.support import expected_conditions as EC\n",
    "# from selenium.webdriver.common.keys import Keys\n",
    "# from selenium.webdriver.common.action_chains import ActionChains\n",
    "\n",
    "# from selenium.webdriver.chrome.options import Options\n",
    "\n",
    "# options = Options()\n",
    "# options.add_argument(\"--headless=new\")\n",
    "\n",
    "# # browser = webdriver.Chrome(options=options)\n",
    "# browser = webdriver.Chrome()\n",
    "# url = 'https://www.zoocasa.com/'\n",
    "# sleep(2)\n",
    "\n",
    "# lst_of_listings_links = []\n",
    "# browser.get(url)\n",
    "\n",
    "# wait_time = 5\n",
    "\n",
    "# try:\n",
    "#     WebDriverWait(browser,wait_time).until(EC.element_to_be_clickable((By.XPATH,'//*[@class=\"style_choice__sLSfh\"][position()=2]'))).click()\n",
    "# except:\n",
    "#     pass\n",
    "\n",
    "# def login_credentials(username, password):\n",
    "#     # login \n",
    "#     # WebDriverWait(browser,wait_time).until(EC.element_to_be_clickable((By.XPATH, '//*[@class=\"style_nav-btn__AHq2s\"]'))).click()\n",
    "#     # Email\n",
    "#     email_login = WebDriverWait(browser,wait_time).until(EC.presence_of_element_located((By.CSS_SELECTOR, \"[data-testid='loginRegistrationEmailTextField']\")))\n",
    "#     email_login.send_keys(username)\n",
    "#     email_login.send_keys(Keys.ENTER)\n",
    "#     #Password\n",
    "#     pass_login = WebDriverWait(browser,wait_time).until(EC.presence_of_element_located((By.CSS_SELECTOR, \"[data-testid='passwordLoginModal']\")))\n",
    "#     pass_login.send_keys(password)\n",
    "#     pass_login.send_keys(Keys.ENTER)\n",
    "\n",
    "# def retrieve_sold_listings(city, page):\n",
    "      \n",
    "#     sold_url = 'https://zoocasa.com/{}-bc-real-estate/sold?page={}'.format(city, page)\n",
    "#     browser.get(sold_url)\n",
    "#     browser.refresh()\n",
    "#     # If this \"Sign in Required\" shows up\n",
    "#     try:\n",
    "#         WebDriverWait(browser,wait_time).until(EC.presence_of_element_located((By.CSS_SELECTOR, \"button[data-testid='overlaySignInBtn']\"))).click()\n",
    "#         login_credentials(username,password)\n",
    "#     except:\n",
    "#         pass\n",
    "\n",
    "#     try:\n",
    "#         WebDriverWait(browser,wait_time).until(EC.presence_of_element_located((By.CSS_SELECTOR, \"[data-testid='closeListingModal']\"))).click()\n",
    "#     except:\n",
    "#         pass\n",
    "    \n",
    "#     try:\n",
    "#         WebDriverWait(browser,wait_time).until(EC.presence_of_element_located((By.CSS_SELECTOR, \"[data-testid='overlaySignInBtn']\"))).click()\n",
    "#         # WebDriverWait(browser,wait_time).until(EC.presence_of_element_located((By.CSS_SELECTOR, \"[data-testid='overlayAcceptTermsMsg']\"))).click()\n",
    "#         WebDriverWait(browser,wait_time).until(EC.presence_of_element_located((By.CSS_SELECTOR, \"[data-testid='termsOfUseAcceptButton_31017']\"))).click()\n",
    "#     except:\n",
    "#         pass    \n",
    "\n",
    "#     # Get href\n",
    "#     listings = WebDriverWait(browser,wait_time).until(EC.presence_of_all_elements_located((By.CSS_SELECTOR, \"[class='style_street-address__TsB7y']\")))\n",
    "#     print('# of listings = {}'.format(len(listings)))\n",
    "\n",
    "#     for listing in listings:\n",
    "#         # Find the <a> tag within the <p> tag\n",
    "#         a_tag = WebDriverWait(listing,10).until(EC.presence_of_element_located((By.XPATH, \"./a\")))\n",
    "    \n",
    "#         # Get the value of the href attribute\n",
    "#         href_value = a_tag.get_attribute(\"href\")\n",
    "#         # print(href_value)\n",
    "#         lst_of_listings_links.append(href_value)\n",
    "\n",
    "#     sleep(5)\n",
    "\n",
    "# list_of_cities = ['richmond', 'burnaby', 'vancouver', 'delta','surrey', 'coquitlam']\n",
    "\n",
    "# pages = 200\n",
    "# city = list_of_cities[2]\n",
    "\n",
    "# for page in range(1,pages+1):\n",
    "#     print('Page number is {}'.format(page))\n",
    "#     retrieve_sold_listings(city, page)\n",
    "       \n",
    "# sleep(10)\n",
    "# browser.close()"
   ]
  },
  {
   "cell_type": "code",
   "execution_count": null,
   "id": "f720cb63-e31f-4e5e-b3c7-0c768f0fc2e2",
   "metadata": {},
   "outputs": [],
   "source": [
    "import pandas as pd\n",
    "table = pd.DataFrame(lst_of_listings_links)"
   ]
  },
  {
   "cell_type": "code",
   "execution_count": null,
   "id": "b97f5bbf-f9dc-4a4d-8032-3daac660820b",
   "metadata": {
    "scrolled": true
   },
   "outputs": [],
   "source": [
    "table = table.rename(columns= {0:\"Listing link\"})"
   ]
  },
  {
   "cell_type": "code",
   "execution_count": null,
   "id": "748389ca-efdc-4f02-b324-4fd64d405920",
   "metadata": {},
   "outputs": [],
   "source": [
    "table"
   ]
  },
  {
   "cell_type": "code",
   "execution_count": null,
   "id": "a17d57eb-9df3-456f-ba5e-8abdb83df09c",
   "metadata": {},
   "outputs": [],
   "source": [
    "table['Listing link'].drop_duplicates()"
   ]
  },
  {
   "cell_type": "code",
   "execution_count": null,
   "id": "046e2990-2ed7-404b-88d1-31b1c2afea54",
   "metadata": {},
   "outputs": [],
   "source": [
    "table.to_csv(\"vancouver_sold_listings.csv\")"
   ]
  },
  {
   "cell_type": "code",
   "execution_count": null,
   "id": "f5013123-d50f-4d51-a4c2-fee26f5f8f1a",
   "metadata": {},
   "outputs": [],
   "source": [
    "27*200"
   ]
  },
  {
   "cell_type": "code",
   "execution_count": null,
   "id": "c4c5c1ef-685e-4dc4-a711-f57b7c67da13",
   "metadata": {},
   "outputs": [],
   "source": []
  }
 ],
 "metadata": {
  "kernelspec": {
   "display_name": "housing_project",
   "language": "python",
   "name": "housing_project"
  },
  "language_info": {
   "codemirror_mode": {
    "name": "ipython",
    "version": 3
   },
   "file_extension": ".py",
   "mimetype": "text/x-python",
   "name": "python",
   "nbconvert_exporter": "python",
   "pygments_lexer": "ipython3",
   "version": "3.12.2"
  }
 },
 "nbformat": 4,
 "nbformat_minor": 5
}
